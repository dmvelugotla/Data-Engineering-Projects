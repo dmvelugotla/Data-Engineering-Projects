{
 "cells": [
  {
   "cell_type": "markdown",
   "metadata": {},
   "source": [
    "# U.S. Immigration Data Project\n",
    "### Data Engineering Capstone Project\n",
    "\n",
    "#### Project Summary\n",
    "\n",
    "The project follows the follow steps:\n",
    "* Step 1: Project Scope\n",
    "* Step 2: Explore and Assess the Data\n",
    "* Step 3: Define the Data Model\n",
    "* Step 4: Run ETL to Model the Data\n",
    "* Step 5: Complete Project Write Up"
   ]
  },
  {
   "cell_type": "markdown",
   "metadata": {},
   "source": [
    "### STEP 1: Project Scope"
   ]
  },
  {
   "cell_type": "markdown",
   "metadata": {},
   "source": [
    "###### This capstone project involves using the project provided by Udacity to create a schema that enables analysis and trend identification from the datasets. The datasets can be utilized to extract insights such as identifying immigration trends based on the country of residence or analyzing peak seasons when immigrants travel the most, depending on the type of visa, among other potential applications.\n",
    "\n",
    "-- Datasets in consideration: \n",
    "* (1) i94_apr16_sub.sas7bdat (SAS dataset for immigration)\n",
    "* (2) us-cities-demographics (.csv)\n",
    "* (3) Port_data (.csv)\n",
    "* (4) Country_codes (.csv)"
   ]
  },
  {
   "cell_type": "markdown",
   "metadata": {},
   "source": [
    "* To create the database, the following steps will be taken:\n",
    "\n",
    "    - Firstly, data will be loaded from the above sources to dataframes using Spark.\n",
    "    - Then, columns that require conversion from the source will be identified and transformed.\n",
    "    - An exploratory data analysis will be conducted to identify columns with significant amounts of missing and duplicate data.\n",
    "    - Dimension tables will be created using the following data:\n",
    "      - visa_dim, i94_mode_dim, status_dim, status_lookup_dim, and date_dim will be constructed from the immigration data.\n",
    "      - demog_bystate_dim will be created from the demographics data.\n",
    "      - i94_port_dim will be derived from the port data.\n",
    "      - country_dim will be derived from the country data.\n",
    "    - Fact table will be created from the immigration dataset, visa_dim, and status_dim.\n",
    "    \n",
    "    \n",
    "* Choice of Technologies used in the project: Apache Spark, Amazon S3\n",
    "\n",
    "A detailed explanation of the project research and implementation steps is contained in this notebook, while the 'etl.py' script contains the actual code."
   ]
  },
  {
   "cell_type": "code",
   "execution_count": 1,
   "metadata": {},
   "outputs": [
    {
     "name": "stdout",
     "output_type": "stream",
     "text": [
      "Collecting numpy\n",
      "\u001b[?25l  Downloading https://files.pythonhosted.org/packages/45/b2/6c7545bb7a38754d63048c7696804a0d947328125d81bf12beaa692c3ae3/numpy-1.19.5-cp36-cp36m-manylinux1_x86_64.whl (13.4MB)\n",
      "\u001b[K    100% |████████████████████████████████| 13.4MB 2.7MB/s eta 0:00:01   45% |██████████████▋                 | 6.1MB 25.2MB/s eta 0:00:01    65% |█████████████████████           | 8.8MB 27.7MB/s eta 0:00:01\n",
      "\u001b[31mtensorflow 1.3.0 requires tensorflow-tensorboard<0.2.0,>=0.1.0, which is not installed.\u001b[0m\n",
      "\u001b[?25hInstalling collected packages: numpy\n",
      "  Found existing installation: numpy 1.12.1\n",
      "    Uninstalling numpy-1.12.1:\n",
      "      Successfully uninstalled numpy-1.12.1\n",
      "Successfully installed numpy-1.19.5\n"
     ]
    }
   ],
   "source": [
    "! pip install -U numpy\n",
    "# ! pip install missingno"
   ]
  },
  {
   "cell_type": "code",
   "execution_count": 2,
   "metadata": {},
   "outputs": [
    {
     "name": "stdout",
     "output_type": "stream",
     "text": [
      "Collecting ipython-autotime\n",
      "  Downloading https://files.pythonhosted.org/packages/b4/c9/b413a24f759641bc27ef98c144b590023c8038dfb8a3f09e713e9dff12c1/ipython_autotime-0.3.1-py2.py3-none-any.whl\n",
      "Requirement already satisfied: ipython in /opt/conda/lib/python3.6/site-packages (from ipython-autotime) (6.5.0)\n",
      "Requirement already satisfied: pickleshare in /opt/conda/lib/python3.6/site-packages (from ipython->ipython-autotime) (0.7.4)\n",
      "Requirement already satisfied: backcall in /opt/conda/lib/python3.6/site-packages (from ipython->ipython-autotime) (0.1.0)\n",
      "Requirement already satisfied: prompt-toolkit<2.0.0,>=1.0.15 in /opt/conda/lib/python3.6/site-packages (from ipython->ipython-autotime) (1.0.15)\n",
      "Requirement already satisfied: decorator in /opt/conda/lib/python3.6/site-packages (from ipython->ipython-autotime) (4.0.11)\n",
      "Requirement already satisfied: pygments in /opt/conda/lib/python3.6/site-packages (from ipython->ipython-autotime) (2.2.0)\n",
      "Requirement already satisfied: jedi>=0.10 in /opt/conda/lib/python3.6/site-packages (from ipython->ipython-autotime) (0.10.2)\n",
      "Requirement already satisfied: pexpect; sys_platform != \"win32\" in /opt/conda/lib/python3.6/site-packages (from ipython->ipython-autotime) (4.3.1)\n",
      "Requirement already satisfied: simplegeneric>0.8 in /opt/conda/lib/python3.6/site-packages (from ipython->ipython-autotime) (0.8.1)\n",
      "Requirement already satisfied: traitlets>=4.2 in /opt/conda/lib/python3.6/site-packages (from ipython->ipython-autotime) (4.3.2)\n",
      "Requirement already satisfied: setuptools>=18.5 in /opt/conda/lib/python3.6/site-packages (from ipython->ipython-autotime) (38.4.0)\n",
      "Requirement already satisfied: six>=1.9.0 in /opt/conda/lib/python3.6/site-packages (from prompt-toolkit<2.0.0,>=1.0.15->ipython->ipython-autotime) (1.11.0)\n",
      "Requirement already satisfied: wcwidth in /opt/conda/lib/python3.6/site-packages (from prompt-toolkit<2.0.0,>=1.0.15->ipython->ipython-autotime) (0.1.7)\n",
      "Requirement already satisfied: ptyprocess>=0.5 in /opt/conda/lib/python3.6/site-packages (from pexpect; sys_platform != \"win32\"->ipython->ipython-autotime) (0.5.2)\n",
      "Requirement already satisfied: ipython-genutils in /opt/conda/lib/python3.6/site-packages (from traitlets>=4.2->ipython->ipython-autotime) (0.2.0)\n",
      "Installing collected packages: ipython-autotime\n",
      "Successfully installed ipython-autotime-0.3.1\n",
      "time: 16.4 ms (started: 2023-04-05 01:19:16 +00:00)\n"
     ]
    }
   ],
   "source": [
    "# Do all the necesarry imports and installs here\n",
    "\n",
    "import pandas as pd\n",
    "import numpy as np\n",
    "import seaborn as sns\n",
    "from pyspark.sql import SparkSession\n",
    "from pyspark.sql import SQLContext\n",
    "import configparser\n",
    "import pyspark.sql.functions as F\n",
    "from pyspark.sql import types as T\n",
    "from datetime import datetime, timedelta, date\n",
    "import datetime as dt\n",
    "import boto3  #to copy files to S3\n",
    "import create_tables as create_tables\n",
    "import Utilities as util\n",
    "\n",
    "try:\n",
    "    %load_ext autotime\n",
    "except:\n",
    "    !pip install ipython-autotime\n",
    "    %load_ext autotime\n",
    "    \n",
    "pd.set_option('display.max_colwidth',-1, 'display.max_rows',200, 'display.max_columns',None)"
   ]
  },
  {
   "cell_type": "code",
   "execution_count": 3,
   "metadata": {},
   "outputs": [
    {
     "name": "stdout",
     "output_type": "stream",
     "text": [
      "time: 13.4 s (started: 2023-04-05 01:19:16 +00:00)\n"
     ]
    }
   ],
   "source": [
    "#Initializing spark session\n",
    "# util.create_spark_session()\n",
    "\n",
    "spark = SparkSession\\\n",
    ".builder\\\n",
    ".config(\"spark.jars.repositories\", \"https://repos.spark-packages.org/\")\\\n",
    ".config(\"spark.jars.packages\", \"saurfang:spark-sas7bdat:2.0.0-s_2.11\")\\\n",
    ".enableHiveSupport().getOrCreate() "
   ]
  },
  {
   "cell_type": "code",
   "execution_count": 4,
   "metadata": {},
   "outputs": [
    {
     "name": "stdout",
     "output_type": "stream",
     "text": [
      "type: <class 'pyspark.sql.dataframe.DataFrame'> \n",
      "\n",
      "Immigration Schema: \n",
      "\n",
      "root\n",
      " |-- cicid: double (nullable = true)\n",
      " |-- i94yr: double (nullable = true)\n",
      " |-- i94mon: double (nullable = true)\n",
      " |-- i94cit: double (nullable = true)\n",
      " |-- i94res: double (nullable = true)\n",
      " |-- i94port: string (nullable = true)\n",
      " |-- arrdate: double (nullable = true)\n",
      " |-- i94mode: double (nullable = true)\n",
      " |-- i94addr: string (nullable = true)\n",
      " |-- depdate: double (nullable = true)\n",
      " |-- i94bir: double (nullable = true)\n",
      " |-- i94visa: double (nullable = true)\n",
      " |-- count: double (nullable = true)\n",
      " |-- dtadfile: string (nullable = true)\n",
      " |-- visapost: string (nullable = true)\n",
      " |-- occup: string (nullable = true)\n",
      " |-- entdepa: string (nullable = true)\n",
      " |-- entdepd: string (nullable = true)\n",
      " |-- entdepu: string (nullable = true)\n",
      " |-- matflag: string (nullable = true)\n",
      " |-- biryear: double (nullable = true)\n",
      " |-- dtaddto: string (nullable = true)\n",
      " |-- gender: string (nullable = true)\n",
      " |-- insnum: string (nullable = true)\n",
      " |-- airline: string (nullable = true)\n",
      " |-- admnum: double (nullable = true)\n",
      " |-- fltno: string (nullable = true)\n",
      " |-- visatype: string (nullable = true)\n",
      "\n",
      "None\n",
      "time: 3.04 s (started: 2023-04-05 01:19:29 +00:00)\n"
     ]
    }
   ],
   "source": [
    "#(1): Reading immigration data\n",
    "\n",
    "path = '../../data/18-83510-I94-Data-2016/i94_apr16_sub.sas7bdat'\n",
    "# immigration_spark_df = spark.read.format('com.github.saurfang.sas.spark').load(path)\n",
    "\n",
    "# Reading 5000 rows of data from immigration\n",
    "immigration_spark_df = spark.read.format('com.github.saurfang.sas.spark').load(path)\n",
    "# \\.limit(5000)\n",
    "\n",
    "print(\"type: {}\".format(type(immigration_spark_df)), \"\\n\")\n",
    "\n",
    "print(\"Immigration Schema:\", \"\\n\")\n",
    "print(immigration_spark_df.printSchema())"
   ]
  },
  {
   "cell_type": "code",
   "execution_count": 5,
   "metadata": {},
   "outputs": [
    {
     "name": "stdout",
     "output_type": "stream",
     "text": [
      "total row counts in immigration: 3096313 \n",
      "\n",
      "time: 42.4 s (started: 2023-04-05 01:19:32 +00:00)\n"
     ]
    }
   ],
   "source": [
    "#total row count\n",
    "print(f'total row counts in immigration: {immigration_spark_df.count()}', \"\\n\")"
   ]
  },
  {
   "cell_type": "code",
   "execution_count": 6,
   "metadata": {},
   "outputs": [
    {
     "data": {
      "text/html": [
       "<div>\n",
       "<style scoped>\n",
       "    .dataframe tbody tr th:only-of-type {\n",
       "        vertical-align: middle;\n",
       "    }\n",
       "\n",
       "    .dataframe tbody tr th {\n",
       "        vertical-align: top;\n",
       "    }\n",
       "\n",
       "    .dataframe thead th {\n",
       "        text-align: right;\n",
       "    }\n",
       "</style>\n",
       "<table border=\"1\" class=\"dataframe\">\n",
       "  <thead>\n",
       "    <tr style=\"text-align: right;\">\n",
       "      <th></th>\n",
       "      <th>cicid</th>\n",
       "      <th>i94yr</th>\n",
       "      <th>i94mon</th>\n",
       "      <th>i94cit</th>\n",
       "      <th>i94res</th>\n",
       "      <th>i94port</th>\n",
       "      <th>arrdate</th>\n",
       "      <th>i94mode</th>\n",
       "      <th>i94addr</th>\n",
       "      <th>depdate</th>\n",
       "      <th>i94bir</th>\n",
       "      <th>i94visa</th>\n",
       "      <th>count</th>\n",
       "      <th>dtadfile</th>\n",
       "      <th>visapost</th>\n",
       "      <th>occup</th>\n",
       "      <th>entdepa</th>\n",
       "      <th>entdepd</th>\n",
       "      <th>entdepu</th>\n",
       "      <th>matflag</th>\n",
       "      <th>biryear</th>\n",
       "      <th>dtaddto</th>\n",
       "      <th>gender</th>\n",
       "      <th>insnum</th>\n",
       "      <th>airline</th>\n",
       "      <th>admnum</th>\n",
       "      <th>fltno</th>\n",
       "      <th>visatype</th>\n",
       "    </tr>\n",
       "  </thead>\n",
       "  <tbody>\n",
       "    <tr>\n",
       "      <th>0</th>\n",
       "      <td>6.0</td>\n",
       "      <td>2016.0</td>\n",
       "      <td>4.0</td>\n",
       "      <td>692.0</td>\n",
       "      <td>692.0</td>\n",
       "      <td>XXX</td>\n",
       "      <td>20573.0</td>\n",
       "      <td>NaN</td>\n",
       "      <td>None</td>\n",
       "      <td>NaN</td>\n",
       "      <td>37.0</td>\n",
       "      <td>2.0</td>\n",
       "      <td>1.0</td>\n",
       "      <td>None</td>\n",
       "      <td>None</td>\n",
       "      <td>None</td>\n",
       "      <td>T</td>\n",
       "      <td>None</td>\n",
       "      <td>U</td>\n",
       "      <td>None</td>\n",
       "      <td>1979.0</td>\n",
       "      <td>10282016</td>\n",
       "      <td>None</td>\n",
       "      <td>None</td>\n",
       "      <td>None</td>\n",
       "      <td>1.897628e+09</td>\n",
       "      <td>None</td>\n",
       "      <td>B2</td>\n",
       "    </tr>\n",
       "    <tr>\n",
       "      <th>1</th>\n",
       "      <td>7.0</td>\n",
       "      <td>2016.0</td>\n",
       "      <td>4.0</td>\n",
       "      <td>254.0</td>\n",
       "      <td>276.0</td>\n",
       "      <td>ATL</td>\n",
       "      <td>20551.0</td>\n",
       "      <td>1.0</td>\n",
       "      <td>AL</td>\n",
       "      <td>NaN</td>\n",
       "      <td>25.0</td>\n",
       "      <td>3.0</td>\n",
       "      <td>1.0</td>\n",
       "      <td>20130811</td>\n",
       "      <td>SEO</td>\n",
       "      <td>None</td>\n",
       "      <td>G</td>\n",
       "      <td>None</td>\n",
       "      <td>Y</td>\n",
       "      <td>None</td>\n",
       "      <td>1991.0</td>\n",
       "      <td>D/S</td>\n",
       "      <td>M</td>\n",
       "      <td>None</td>\n",
       "      <td>None</td>\n",
       "      <td>3.736796e+09</td>\n",
       "      <td>00296</td>\n",
       "      <td>F1</td>\n",
       "    </tr>\n",
       "    <tr>\n",
       "      <th>2</th>\n",
       "      <td>15.0</td>\n",
       "      <td>2016.0</td>\n",
       "      <td>4.0</td>\n",
       "      <td>101.0</td>\n",
       "      <td>101.0</td>\n",
       "      <td>WAS</td>\n",
       "      <td>20545.0</td>\n",
       "      <td>1.0</td>\n",
       "      <td>MI</td>\n",
       "      <td>20691.0</td>\n",
       "      <td>55.0</td>\n",
       "      <td>2.0</td>\n",
       "      <td>1.0</td>\n",
       "      <td>20160401</td>\n",
       "      <td>None</td>\n",
       "      <td>None</td>\n",
       "      <td>T</td>\n",
       "      <td>O</td>\n",
       "      <td>None</td>\n",
       "      <td>M</td>\n",
       "      <td>1961.0</td>\n",
       "      <td>09302016</td>\n",
       "      <td>M</td>\n",
       "      <td>None</td>\n",
       "      <td>OS</td>\n",
       "      <td>6.666432e+08</td>\n",
       "      <td>93</td>\n",
       "      <td>B2</td>\n",
       "    </tr>\n",
       "    <tr>\n",
       "      <th>3</th>\n",
       "      <td>16.0</td>\n",
       "      <td>2016.0</td>\n",
       "      <td>4.0</td>\n",
       "      <td>101.0</td>\n",
       "      <td>101.0</td>\n",
       "      <td>NYC</td>\n",
       "      <td>20545.0</td>\n",
       "      <td>1.0</td>\n",
       "      <td>MA</td>\n",
       "      <td>20567.0</td>\n",
       "      <td>28.0</td>\n",
       "      <td>2.0</td>\n",
       "      <td>1.0</td>\n",
       "      <td>20160401</td>\n",
       "      <td>None</td>\n",
       "      <td>None</td>\n",
       "      <td>O</td>\n",
       "      <td>O</td>\n",
       "      <td>None</td>\n",
       "      <td>M</td>\n",
       "      <td>1988.0</td>\n",
       "      <td>09302016</td>\n",
       "      <td>None</td>\n",
       "      <td>None</td>\n",
       "      <td>AA</td>\n",
       "      <td>9.246846e+10</td>\n",
       "      <td>00199</td>\n",
       "      <td>B2</td>\n",
       "    </tr>\n",
       "    <tr>\n",
       "      <th>4</th>\n",
       "      <td>17.0</td>\n",
       "      <td>2016.0</td>\n",
       "      <td>4.0</td>\n",
       "      <td>101.0</td>\n",
       "      <td>101.0</td>\n",
       "      <td>NYC</td>\n",
       "      <td>20545.0</td>\n",
       "      <td>1.0</td>\n",
       "      <td>MA</td>\n",
       "      <td>20567.0</td>\n",
       "      <td>4.0</td>\n",
       "      <td>2.0</td>\n",
       "      <td>1.0</td>\n",
       "      <td>20160401</td>\n",
       "      <td>None</td>\n",
       "      <td>None</td>\n",
       "      <td>O</td>\n",
       "      <td>O</td>\n",
       "      <td>None</td>\n",
       "      <td>M</td>\n",
       "      <td>2012.0</td>\n",
       "      <td>09302016</td>\n",
       "      <td>None</td>\n",
       "      <td>None</td>\n",
       "      <td>AA</td>\n",
       "      <td>9.246846e+10</td>\n",
       "      <td>00199</td>\n",
       "      <td>B2</td>\n",
       "    </tr>\n",
       "  </tbody>\n",
       "</table>\n",
       "</div>"
      ],
      "text/plain": [
       "   cicid   i94yr  i94mon  i94cit  i94res i94port  arrdate  i94mode i94addr  \\\n",
       "0  6.0    2016.0  4.0     692.0   692.0   XXX     20573.0 NaN       None     \n",
       "1  7.0    2016.0  4.0     254.0   276.0   ATL     20551.0  1.0      AL       \n",
       "2  15.0   2016.0  4.0     101.0   101.0   WAS     20545.0  1.0      MI       \n",
       "3  16.0   2016.0  4.0     101.0   101.0   NYC     20545.0  1.0      MA       \n",
       "4  17.0   2016.0  4.0     101.0   101.0   NYC     20545.0  1.0      MA       \n",
       "\n",
       "   depdate  i94bir  i94visa  count  dtadfile visapost occup entdepa entdepd  \\\n",
       "0 NaN       37.0    2.0      1.0    None      None     None  T       None     \n",
       "1 NaN       25.0    3.0      1.0    20130811  SEO      None  G       None     \n",
       "2  20691.0  55.0    2.0      1.0    20160401  None     None  T       O        \n",
       "3  20567.0  28.0    2.0      1.0    20160401  None     None  O       O        \n",
       "4  20567.0  4.0     2.0      1.0    20160401  None     None  O       O        \n",
       "\n",
       "  entdepu matflag  biryear   dtaddto gender insnum airline        admnum  \\\n",
       "0  U       None    1979.0   10282016  None   None   None    1.897628e+09   \n",
       "1  Y       None    1991.0   D/S       M      None   None    3.736796e+09   \n",
       "2  None    M       1961.0   09302016  M      None   OS      6.666432e+08   \n",
       "3  None    M       1988.0   09302016  None   None   AA      9.246846e+10   \n",
       "4  None    M       2012.0   09302016  None   None   AA      9.246846e+10   \n",
       "\n",
       "   fltno visatype  \n",
       "0  None   B2       \n",
       "1  00296  F1       \n",
       "2  93     B2       \n",
       "3  00199  B2       \n",
       "4  00199  B2       "
      ]
     },
     "execution_count": 6,
     "metadata": {},
     "output_type": "execute_result"
    },
    {
     "name": "stdout",
     "output_type": "stream",
     "text": [
      "time: 673 ms (started: 2023-04-05 01:20:15 +00:00)\n"
     ]
    }
   ],
   "source": [
    "immigration_spark_df.limit(5).toPandas()"
   ]
  },
  {
   "cell_type": "code",
   "execution_count": 7,
   "metadata": {},
   "outputs": [
    {
     "name": "stdout",
     "output_type": "stream",
     "text": [
      "time: 2.07 s (started: 2023-04-05 01:20:15 +00:00)\n"
     ]
    }
   ],
   "source": [
    "#(2): Reading demographics data\n",
    "path = 'us-cities-demographics.csv'\n",
    "demographics_spark_df = spark.read.format(\"csv\").option(\"header\", \"true\").option(\"delimiter\", \";\").load(path)"
   ]
  },
  {
   "cell_type": "code",
   "execution_count": 8,
   "metadata": {},
   "outputs": [
    {
     "name": "stdout",
     "output_type": "stream",
     "text": [
      "type: <class 'pyspark.sql.dataframe.DataFrame'>\n",
      "Demographics Schema: \n",
      "\n",
      "root\n",
      " |-- City: string (nullable = true)\n",
      " |-- State: string (nullable = true)\n",
      " |-- Median Age: string (nullable = true)\n",
      " |-- Male Population: string (nullable = true)\n",
      " |-- Female Population: string (nullable = true)\n",
      " |-- Total Population: string (nullable = true)\n",
      " |-- Number of Veterans: string (nullable = true)\n",
      " |-- Foreign-born: string (nullable = true)\n",
      " |-- Average Household Size: string (nullable = true)\n",
      " |-- State Code: string (nullable = true)\n",
      " |-- Race: string (nullable = true)\n",
      " |-- Count: string (nullable = true)\n",
      "\n",
      "None\n",
      "time: 13 ms (started: 2023-04-05 01:20:17 +00:00)\n"
     ]
    }
   ],
   "source": [
    "print(\"type: {}\".format(type(demographics_spark_df)))\n",
    "\n",
    "print(\"Demographics Schema:\" , \"\\n\")\n",
    "print(demographics_spark_df.printSchema())"
   ]
  },
  {
   "cell_type": "code",
   "execution_count": 9,
   "metadata": {},
   "outputs": [
    {
     "data": {
      "text/html": [
       "<div>\n",
       "<style scoped>\n",
       "    .dataframe tbody tr th:only-of-type {\n",
       "        vertical-align: middle;\n",
       "    }\n",
       "\n",
       "    .dataframe tbody tr th {\n",
       "        vertical-align: top;\n",
       "    }\n",
       "\n",
       "    .dataframe thead th {\n",
       "        text-align: right;\n",
       "    }\n",
       "</style>\n",
       "<table border=\"1\" class=\"dataframe\">\n",
       "  <thead>\n",
       "    <tr style=\"text-align: right;\">\n",
       "      <th></th>\n",
       "      <th>City</th>\n",
       "      <th>State</th>\n",
       "      <th>Median Age</th>\n",
       "      <th>Male Population</th>\n",
       "      <th>Female Population</th>\n",
       "      <th>Total Population</th>\n",
       "      <th>Number of Veterans</th>\n",
       "      <th>Foreign-born</th>\n",
       "      <th>Average Household Size</th>\n",
       "      <th>State Code</th>\n",
       "      <th>Race</th>\n",
       "      <th>Count</th>\n",
       "    </tr>\n",
       "  </thead>\n",
       "  <tbody>\n",
       "    <tr>\n",
       "      <th>0</th>\n",
       "      <td>Silver Spring</td>\n",
       "      <td>Maryland</td>\n",
       "      <td>33.8</td>\n",
       "      <td>40601</td>\n",
       "      <td>41862</td>\n",
       "      <td>82463</td>\n",
       "      <td>1562</td>\n",
       "      <td>30908</td>\n",
       "      <td>2.6</td>\n",
       "      <td>MD</td>\n",
       "      <td>Hispanic or Latino</td>\n",
       "      <td>25924</td>\n",
       "    </tr>\n",
       "    <tr>\n",
       "      <th>1</th>\n",
       "      <td>Quincy</td>\n",
       "      <td>Massachusetts</td>\n",
       "      <td>41.0</td>\n",
       "      <td>44129</td>\n",
       "      <td>49500</td>\n",
       "      <td>93629</td>\n",
       "      <td>4147</td>\n",
       "      <td>32935</td>\n",
       "      <td>2.39</td>\n",
       "      <td>MA</td>\n",
       "      <td>White</td>\n",
       "      <td>58723</td>\n",
       "    </tr>\n",
       "    <tr>\n",
       "      <th>2</th>\n",
       "      <td>Hoover</td>\n",
       "      <td>Alabama</td>\n",
       "      <td>38.5</td>\n",
       "      <td>38040</td>\n",
       "      <td>46799</td>\n",
       "      <td>84839</td>\n",
       "      <td>4819</td>\n",
       "      <td>8229</td>\n",
       "      <td>2.58</td>\n",
       "      <td>AL</td>\n",
       "      <td>Asian</td>\n",
       "      <td>4759</td>\n",
       "    </tr>\n",
       "    <tr>\n",
       "      <th>3</th>\n",
       "      <td>Rancho Cucamonga</td>\n",
       "      <td>California</td>\n",
       "      <td>34.5</td>\n",
       "      <td>88127</td>\n",
       "      <td>87105</td>\n",
       "      <td>175232</td>\n",
       "      <td>5821</td>\n",
       "      <td>33878</td>\n",
       "      <td>3.18</td>\n",
       "      <td>CA</td>\n",
       "      <td>Black or African-American</td>\n",
       "      <td>24437</td>\n",
       "    </tr>\n",
       "    <tr>\n",
       "      <th>4</th>\n",
       "      <td>Newark</td>\n",
       "      <td>New Jersey</td>\n",
       "      <td>34.6</td>\n",
       "      <td>138040</td>\n",
       "      <td>143873</td>\n",
       "      <td>281913</td>\n",
       "      <td>5829</td>\n",
       "      <td>86253</td>\n",
       "      <td>2.73</td>\n",
       "      <td>NJ</td>\n",
       "      <td>White</td>\n",
       "      <td>76402</td>\n",
       "    </tr>\n",
       "  </tbody>\n",
       "</table>\n",
       "</div>"
      ],
      "text/plain": [
       "               City          State Median Age Male Population  \\\n",
       "0  Silver Spring     Maryland       33.8       40601            \n",
       "1  Quincy            Massachusetts  41.0       44129            \n",
       "2  Hoover            Alabama        38.5       38040            \n",
       "3  Rancho Cucamonga  California     34.5       88127            \n",
       "4  Newark            New Jersey     34.6       138040           \n",
       "\n",
       "  Female Population Total Population Number of Veterans Foreign-born  \\\n",
       "0  41862             82463            1562               30908         \n",
       "1  49500             93629            4147               32935         \n",
       "2  46799             84839            4819               8229          \n",
       "3  87105             175232           5821               33878         \n",
       "4  143873            281913           5829               86253         \n",
       "\n",
       "  Average Household Size State Code                       Race  Count  \n",
       "0  2.6                    MD         Hispanic or Latino         25924  \n",
       "1  2.39                   MA         White                      58723  \n",
       "2  2.58                   AL         Asian                      4759   \n",
       "3  3.18                   CA         Black or African-American  24437  \n",
       "4  2.73                   NJ         White                      76402  "
      ]
     },
     "execution_count": 9,
     "metadata": {},
     "output_type": "execute_result"
    },
    {
     "name": "stdout",
     "output_type": "stream",
     "text": [
      "time: 337 ms (started: 2023-04-05 01:20:17 +00:00)\n"
     ]
    }
   ],
   "source": [
    "demographics_spark_df.limit(5).toPandas()"
   ]
  },
  {
   "cell_type": "code",
   "execution_count": 10,
   "metadata": {},
   "outputs": [
    {
     "name": "stdout",
     "output_type": "stream",
     "text": [
      "+---------+-----------------------------+\n",
      "|port_code|port                         |\n",
      "+---------+-----------------------------+\n",
      "|ALC'     |ALCAN, AK '                  |\n",
      "|ANC'     |ANCHORAGE, AK '              |\n",
      "|BAR'     |BAKER AAF - BAKER ISLAND, AK'|\n",
      "|DAC'     |DALTONS CACHE, AK '          |\n",
      "|PIZ'     |DEW STATION PT LAY DEW, AK'  |\n",
      "+---------+-----------------------------+\n",
      "only showing top 5 rows\n",
      "\n",
      "time: 289 ms (started: 2023-04-05 01:20:18 +00:00)\n"
     ]
    }
   ],
   "source": [
    "#(3): Reading i94 port data\n",
    "path = 'Port_data.txt'\n",
    "schema = T.StructType([T.StructField(\"port_code\", T.StringType(), True),\\\n",
    "                       T.StructField(\"port\", T.StringType(), True)])\n",
    "\n",
    "i94port_spark_df = spark.read.format('csv').option(\"delimiter\", \"=\").schema(schema).load(path)\n",
    "i94port_spark_df.show(5, truncate = False)"
   ]
  },
  {
   "cell_type": "code",
   "execution_count": 11,
   "metadata": {},
   "outputs": [
    {
     "name": "stdout",
     "output_type": "stream",
     "text": [
      "+------------+-------------------------------------------------------------+\n",
      "|country_code|country_name                                                 |\n",
      "+------------+-------------------------------------------------------------+\n",
      "|582         |  'MEXICO Air Sea, and Not Reported (I-94, no land arrivals)'|\n",
      "|236         |  'AFGHANISTAN'                                              |\n",
      "|101         |  'ALBANIA'                                                  |\n",
      "|316         |  'ALGERIA'                                                  |\n",
      "|102         |  'ANDORRA'                                                  |\n",
      "+------------+-------------------------------------------------------------+\n",
      "only showing top 5 rows\n",
      "\n",
      "time: 190 ms (started: 2023-04-05 01:20:18 +00:00)\n"
     ]
    }
   ],
   "source": [
    "#(4): Reading Country data\n",
    "path = 'Country_codes.csv'\n",
    "schema = T.StructType([T.StructField(\"country_code\", T.StringType(), True),\\\n",
    "                       T.StructField(\"country_name\", T.StringType(), True)])\n",
    "\n",
    "country_spark_df = spark.read.format('csv').option(\"delimiter\", \"=\").schema(schema).load(path)\n",
    "country_spark_df.show(5, truncate = False)"
   ]
  },
  {
   "cell_type": "code",
   "execution_count": null,
   "metadata": {},
   "outputs": [],
   "source": []
  },
  {
   "cell_type": "markdown",
   "metadata": {},
   "source": [
    "### Step 2: Explore and Assess the Data\n",
    "#### Explore the Data \n",
    "Identify data quality issues, like missing values, duplicate data, etc.\n",
    "\n",
    "#### Cleaning Steps\n",
    "Document steps necessary to clean the data"
   ]
  },
  {
   "cell_type": "markdown",
   "metadata": {},
   "source": [
    "##### (1): Cleaning - immigration"
   ]
  },
  {
   "cell_type": "code",
   "execution_count": 12,
   "metadata": {},
   "outputs": [
    {
     "data": {
      "text/html": [
       "<div>\n",
       "<style scoped>\n",
       "    .dataframe tbody tr th:only-of-type {\n",
       "        vertical-align: middle;\n",
       "    }\n",
       "\n",
       "    .dataframe tbody tr th {\n",
       "        vertical-align: top;\n",
       "    }\n",
       "\n",
       "    .dataframe thead th {\n",
       "        text-align: right;\n",
       "    }\n",
       "</style>\n",
       "<table border=\"1\" class=\"dataframe\">\n",
       "  <thead>\n",
       "    <tr style=\"text-align: right;\">\n",
       "      <th></th>\n",
       "      <th>cicid</th>\n",
       "      <th>i94yr</th>\n",
       "      <th>i94mon</th>\n",
       "      <th>i94cit</th>\n",
       "      <th>i94res</th>\n",
       "      <th>i94port</th>\n",
       "      <th>arrdate</th>\n",
       "      <th>i94mode</th>\n",
       "      <th>i94addr</th>\n",
       "      <th>depdate</th>\n",
       "      <th>i94bir</th>\n",
       "      <th>i94visa</th>\n",
       "      <th>count</th>\n",
       "      <th>dtadfile</th>\n",
       "      <th>visapost</th>\n",
       "      <th>occup</th>\n",
       "      <th>entdepa</th>\n",
       "      <th>entdepd</th>\n",
       "      <th>entdepu</th>\n",
       "      <th>matflag</th>\n",
       "      <th>biryear</th>\n",
       "      <th>dtaddto</th>\n",
       "      <th>gender</th>\n",
       "      <th>insnum</th>\n",
       "      <th>airline</th>\n",
       "      <th>admnum</th>\n",
       "      <th>fltno</th>\n",
       "      <th>visatype</th>\n",
       "    </tr>\n",
       "  </thead>\n",
       "  <tbody>\n",
       "    <tr>\n",
       "      <th>0</th>\n",
       "      <td>6.0</td>\n",
       "      <td>2016.0</td>\n",
       "      <td>4.0</td>\n",
       "      <td>692.0</td>\n",
       "      <td>692.0</td>\n",
       "      <td>XXX</td>\n",
       "      <td>20573.0</td>\n",
       "      <td>NaN</td>\n",
       "      <td>None</td>\n",
       "      <td>NaN</td>\n",
       "      <td>37.0</td>\n",
       "      <td>2.0</td>\n",
       "      <td>1.0</td>\n",
       "      <td>None</td>\n",
       "      <td>None</td>\n",
       "      <td>None</td>\n",
       "      <td>T</td>\n",
       "      <td>None</td>\n",
       "      <td>U</td>\n",
       "      <td>None</td>\n",
       "      <td>1979.0</td>\n",
       "      <td>10282016</td>\n",
       "      <td>None</td>\n",
       "      <td>None</td>\n",
       "      <td>None</td>\n",
       "      <td>1.897628e+09</td>\n",
       "      <td>None</td>\n",
       "      <td>B2</td>\n",
       "    </tr>\n",
       "    <tr>\n",
       "      <th>1</th>\n",
       "      <td>7.0</td>\n",
       "      <td>2016.0</td>\n",
       "      <td>4.0</td>\n",
       "      <td>254.0</td>\n",
       "      <td>276.0</td>\n",
       "      <td>ATL</td>\n",
       "      <td>20551.0</td>\n",
       "      <td>1.0</td>\n",
       "      <td>AL</td>\n",
       "      <td>NaN</td>\n",
       "      <td>25.0</td>\n",
       "      <td>3.0</td>\n",
       "      <td>1.0</td>\n",
       "      <td>20130811</td>\n",
       "      <td>SEO</td>\n",
       "      <td>None</td>\n",
       "      <td>G</td>\n",
       "      <td>None</td>\n",
       "      <td>Y</td>\n",
       "      <td>None</td>\n",
       "      <td>1991.0</td>\n",
       "      <td>D/S</td>\n",
       "      <td>M</td>\n",
       "      <td>None</td>\n",
       "      <td>None</td>\n",
       "      <td>3.736796e+09</td>\n",
       "      <td>00296</td>\n",
       "      <td>F1</td>\n",
       "    </tr>\n",
       "    <tr>\n",
       "      <th>2</th>\n",
       "      <td>15.0</td>\n",
       "      <td>2016.0</td>\n",
       "      <td>4.0</td>\n",
       "      <td>101.0</td>\n",
       "      <td>101.0</td>\n",
       "      <td>WAS</td>\n",
       "      <td>20545.0</td>\n",
       "      <td>1.0</td>\n",
       "      <td>MI</td>\n",
       "      <td>20691.0</td>\n",
       "      <td>55.0</td>\n",
       "      <td>2.0</td>\n",
       "      <td>1.0</td>\n",
       "      <td>20160401</td>\n",
       "      <td>None</td>\n",
       "      <td>None</td>\n",
       "      <td>T</td>\n",
       "      <td>O</td>\n",
       "      <td>None</td>\n",
       "      <td>M</td>\n",
       "      <td>1961.0</td>\n",
       "      <td>09302016</td>\n",
       "      <td>M</td>\n",
       "      <td>None</td>\n",
       "      <td>OS</td>\n",
       "      <td>6.666432e+08</td>\n",
       "      <td>93</td>\n",
       "      <td>B2</td>\n",
       "    </tr>\n",
       "    <tr>\n",
       "      <th>3</th>\n",
       "      <td>16.0</td>\n",
       "      <td>2016.0</td>\n",
       "      <td>4.0</td>\n",
       "      <td>101.0</td>\n",
       "      <td>101.0</td>\n",
       "      <td>NYC</td>\n",
       "      <td>20545.0</td>\n",
       "      <td>1.0</td>\n",
       "      <td>MA</td>\n",
       "      <td>20567.0</td>\n",
       "      <td>28.0</td>\n",
       "      <td>2.0</td>\n",
       "      <td>1.0</td>\n",
       "      <td>20160401</td>\n",
       "      <td>None</td>\n",
       "      <td>None</td>\n",
       "      <td>O</td>\n",
       "      <td>O</td>\n",
       "      <td>None</td>\n",
       "      <td>M</td>\n",
       "      <td>1988.0</td>\n",
       "      <td>09302016</td>\n",
       "      <td>None</td>\n",
       "      <td>None</td>\n",
       "      <td>AA</td>\n",
       "      <td>9.246846e+10</td>\n",
       "      <td>00199</td>\n",
       "      <td>B2</td>\n",
       "    </tr>\n",
       "    <tr>\n",
       "      <th>4</th>\n",
       "      <td>17.0</td>\n",
       "      <td>2016.0</td>\n",
       "      <td>4.0</td>\n",
       "      <td>101.0</td>\n",
       "      <td>101.0</td>\n",
       "      <td>NYC</td>\n",
       "      <td>20545.0</td>\n",
       "      <td>1.0</td>\n",
       "      <td>MA</td>\n",
       "      <td>20567.0</td>\n",
       "      <td>4.0</td>\n",
       "      <td>2.0</td>\n",
       "      <td>1.0</td>\n",
       "      <td>20160401</td>\n",
       "      <td>None</td>\n",
       "      <td>None</td>\n",
       "      <td>O</td>\n",
       "      <td>O</td>\n",
       "      <td>None</td>\n",
       "      <td>M</td>\n",
       "      <td>2012.0</td>\n",
       "      <td>09302016</td>\n",
       "      <td>None</td>\n",
       "      <td>None</td>\n",
       "      <td>AA</td>\n",
       "      <td>9.246846e+10</td>\n",
       "      <td>00199</td>\n",
       "      <td>B2</td>\n",
       "    </tr>\n",
       "  </tbody>\n",
       "</table>\n",
       "</div>"
      ],
      "text/plain": [
       "   cicid   i94yr  i94mon  i94cit  i94res i94port  arrdate  i94mode i94addr  \\\n",
       "0  6.0    2016.0  4.0     692.0   692.0   XXX     20573.0 NaN       None     \n",
       "1  7.0    2016.0  4.0     254.0   276.0   ATL     20551.0  1.0      AL       \n",
       "2  15.0   2016.0  4.0     101.0   101.0   WAS     20545.0  1.0      MI       \n",
       "3  16.0   2016.0  4.0     101.0   101.0   NYC     20545.0  1.0      MA       \n",
       "4  17.0   2016.0  4.0     101.0   101.0   NYC     20545.0  1.0      MA       \n",
       "\n",
       "   depdate  i94bir  i94visa  count  dtadfile visapost occup entdepa entdepd  \\\n",
       "0 NaN       37.0    2.0      1.0    None      None     None  T       None     \n",
       "1 NaN       25.0    3.0      1.0    20130811  SEO      None  G       None     \n",
       "2  20691.0  55.0    2.0      1.0    20160401  None     None  T       O        \n",
       "3  20567.0  28.0    2.0      1.0    20160401  None     None  O       O        \n",
       "4  20567.0  4.0     2.0      1.0    20160401  None     None  O       O        \n",
       "\n",
       "  entdepu matflag  biryear   dtaddto gender insnum airline        admnum  \\\n",
       "0  U       None    1979.0   10282016  None   None   None    1.897628e+09   \n",
       "1  Y       None    1991.0   D/S       M      None   None    3.736796e+09   \n",
       "2  None    M       1961.0   09302016  M      None   OS      6.666432e+08   \n",
       "3  None    M       1988.0   09302016  None   None   AA      9.246846e+10   \n",
       "4  None    M       2012.0   09302016  None   None   AA      9.246846e+10   \n",
       "\n",
       "   fltno visatype  \n",
       "0  None   B2       \n",
       "1  00296  F1       \n",
       "2  93     B2       \n",
       "3  00199  B2       \n",
       "4  00199  B2       "
      ]
     },
     "execution_count": 12,
     "metadata": {},
     "output_type": "execute_result"
    },
    {
     "name": "stdout",
     "output_type": "stream",
     "text": [
      "time: 276 ms (started: 2023-04-05 01:20:18 +00:00)\n"
     ]
    }
   ],
   "source": [
    "immigration_spark_df.limit(5).toPandas()"
   ]
  },
  {
   "cell_type": "markdown",
   "metadata": {},
   "source": [
    "\n",
    "* From the above data sample, we see that 'arrdate' & 'depdate' are in SAS date format and need to be transformed to the appropriate format. 'dtadfile' and 'dtaddto' are imported as strings and need to be converted as well"
   ]
  },
  {
   "cell_type": "code",
   "execution_count": 13,
   "metadata": {},
   "outputs": [
    {
     "name": "stdout",
     "output_type": "stream",
     "text": [
      "time: 582 ms (started: 2023-04-05 01:20:19 +00:00)\n"
     ]
    }
   ],
   "source": [
    "# Converting SAS dates to date format (arrdate & depdate)\n",
    "immigration = util.clean_SAS_dates(immigration_spark_df)"
   ]
  },
  {
   "cell_type": "code",
   "execution_count": 14,
   "metadata": {},
   "outputs": [
    {
     "name": "stdout",
     "output_type": "stream",
     "text": [
      "time: 853 ms (started: 2023-04-05 01:20:19 +00:00)\n"
     ]
    }
   ],
   "source": [
    "# Convert dates from string format to date (dtadfile & dtaddto)\n",
    "immigration = util.string_to_date_conv(immigration)"
   ]
  },
  {
   "cell_type": "code",
   "execution_count": 15,
   "metadata": {},
   "outputs": [
    {
     "data": {
      "text/html": [
       "<div>\n",
       "<style scoped>\n",
       "    .dataframe tbody tr th:only-of-type {\n",
       "        vertical-align: middle;\n",
       "    }\n",
       "\n",
       "    .dataframe tbody tr th {\n",
       "        vertical-align: top;\n",
       "    }\n",
       "\n",
       "    .dataframe thead th {\n",
       "        text-align: right;\n",
       "    }\n",
       "</style>\n",
       "<table border=\"1\" class=\"dataframe\">\n",
       "  <thead>\n",
       "    <tr style=\"text-align: right;\">\n",
       "      <th></th>\n",
       "      <th>cicid</th>\n",
       "      <th>i94yr</th>\n",
       "      <th>i94mon</th>\n",
       "      <th>i94cit</th>\n",
       "      <th>i94res</th>\n",
       "      <th>i94port</th>\n",
       "      <th>arrdate</th>\n",
       "      <th>i94mode</th>\n",
       "      <th>i94addr</th>\n",
       "      <th>depdate</th>\n",
       "      <th>i94bir</th>\n",
       "      <th>i94visa</th>\n",
       "      <th>count</th>\n",
       "      <th>dtadfile</th>\n",
       "      <th>visapost</th>\n",
       "      <th>occup</th>\n",
       "      <th>entdepa</th>\n",
       "      <th>entdepd</th>\n",
       "      <th>entdepu</th>\n",
       "      <th>matflag</th>\n",
       "      <th>biryear</th>\n",
       "      <th>dtaddto</th>\n",
       "      <th>gender</th>\n",
       "      <th>insnum</th>\n",
       "      <th>airline</th>\n",
       "      <th>admnum</th>\n",
       "      <th>fltno</th>\n",
       "      <th>visatype</th>\n",
       "      <th>dt_arrival</th>\n",
       "      <th>dt_departure</th>\n",
       "      <th>dt_add_tofile</th>\n",
       "      <th>dt_stay_until</th>\n",
       "    </tr>\n",
       "  </thead>\n",
       "  <tbody>\n",
       "    <tr>\n",
       "      <th>0</th>\n",
       "      <td>6.0</td>\n",
       "      <td>2016.0</td>\n",
       "      <td>4.0</td>\n",
       "      <td>692.0</td>\n",
       "      <td>692.0</td>\n",
       "      <td>XXX</td>\n",
       "      <td>20573.0</td>\n",
       "      <td>NaN</td>\n",
       "      <td>None</td>\n",
       "      <td>NaN</td>\n",
       "      <td>37.0</td>\n",
       "      <td>2.0</td>\n",
       "      <td>1.0</td>\n",
       "      <td>None</td>\n",
       "      <td>None</td>\n",
       "      <td>None</td>\n",
       "      <td>T</td>\n",
       "      <td>None</td>\n",
       "      <td>U</td>\n",
       "      <td>None</td>\n",
       "      <td>1979.0</td>\n",
       "      <td>10282016</td>\n",
       "      <td>None</td>\n",
       "      <td>None</td>\n",
       "      <td>None</td>\n",
       "      <td>1.897628e+09</td>\n",
       "      <td>None</td>\n",
       "      <td>B2</td>\n",
       "      <td>2016-04-29</td>\n",
       "      <td>None</td>\n",
       "      <td>None</td>\n",
       "      <td>2016-10-28</td>\n",
       "    </tr>\n",
       "    <tr>\n",
       "      <th>1</th>\n",
       "      <td>7.0</td>\n",
       "      <td>2016.0</td>\n",
       "      <td>4.0</td>\n",
       "      <td>254.0</td>\n",
       "      <td>276.0</td>\n",
       "      <td>ATL</td>\n",
       "      <td>20551.0</td>\n",
       "      <td>1.0</td>\n",
       "      <td>AL</td>\n",
       "      <td>NaN</td>\n",
       "      <td>25.0</td>\n",
       "      <td>3.0</td>\n",
       "      <td>1.0</td>\n",
       "      <td>20130811</td>\n",
       "      <td>SEO</td>\n",
       "      <td>None</td>\n",
       "      <td>G</td>\n",
       "      <td>None</td>\n",
       "      <td>Y</td>\n",
       "      <td>None</td>\n",
       "      <td>1991.0</td>\n",
       "      <td>D/S</td>\n",
       "      <td>M</td>\n",
       "      <td>None</td>\n",
       "      <td>None</td>\n",
       "      <td>3.736796e+09</td>\n",
       "      <td>00296</td>\n",
       "      <td>F1</td>\n",
       "      <td>2016-04-07</td>\n",
       "      <td>None</td>\n",
       "      <td>2013-08-11</td>\n",
       "      <td>None</td>\n",
       "    </tr>\n",
       "    <tr>\n",
       "      <th>2</th>\n",
       "      <td>15.0</td>\n",
       "      <td>2016.0</td>\n",
       "      <td>4.0</td>\n",
       "      <td>101.0</td>\n",
       "      <td>101.0</td>\n",
       "      <td>WAS</td>\n",
       "      <td>20545.0</td>\n",
       "      <td>1.0</td>\n",
       "      <td>MI</td>\n",
       "      <td>20691.0</td>\n",
       "      <td>55.0</td>\n",
       "      <td>2.0</td>\n",
       "      <td>1.0</td>\n",
       "      <td>20160401</td>\n",
       "      <td>None</td>\n",
       "      <td>None</td>\n",
       "      <td>T</td>\n",
       "      <td>O</td>\n",
       "      <td>None</td>\n",
       "      <td>M</td>\n",
       "      <td>1961.0</td>\n",
       "      <td>09302016</td>\n",
       "      <td>M</td>\n",
       "      <td>None</td>\n",
       "      <td>OS</td>\n",
       "      <td>6.666432e+08</td>\n",
       "      <td>93</td>\n",
       "      <td>B2</td>\n",
       "      <td>2016-04-01</td>\n",
       "      <td>2016-08-25</td>\n",
       "      <td>2016-04-01</td>\n",
       "      <td>2016-09-30</td>\n",
       "    </tr>\n",
       "    <tr>\n",
       "      <th>3</th>\n",
       "      <td>16.0</td>\n",
       "      <td>2016.0</td>\n",
       "      <td>4.0</td>\n",
       "      <td>101.0</td>\n",
       "      <td>101.0</td>\n",
       "      <td>NYC</td>\n",
       "      <td>20545.0</td>\n",
       "      <td>1.0</td>\n",
       "      <td>MA</td>\n",
       "      <td>20567.0</td>\n",
       "      <td>28.0</td>\n",
       "      <td>2.0</td>\n",
       "      <td>1.0</td>\n",
       "      <td>20160401</td>\n",
       "      <td>None</td>\n",
       "      <td>None</td>\n",
       "      <td>O</td>\n",
       "      <td>O</td>\n",
       "      <td>None</td>\n",
       "      <td>M</td>\n",
       "      <td>1988.0</td>\n",
       "      <td>09302016</td>\n",
       "      <td>None</td>\n",
       "      <td>None</td>\n",
       "      <td>AA</td>\n",
       "      <td>9.246846e+10</td>\n",
       "      <td>00199</td>\n",
       "      <td>B2</td>\n",
       "      <td>2016-04-01</td>\n",
       "      <td>2016-04-23</td>\n",
       "      <td>2016-04-01</td>\n",
       "      <td>2016-09-30</td>\n",
       "    </tr>\n",
       "    <tr>\n",
       "      <th>4</th>\n",
       "      <td>17.0</td>\n",
       "      <td>2016.0</td>\n",
       "      <td>4.0</td>\n",
       "      <td>101.0</td>\n",
       "      <td>101.0</td>\n",
       "      <td>NYC</td>\n",
       "      <td>20545.0</td>\n",
       "      <td>1.0</td>\n",
       "      <td>MA</td>\n",
       "      <td>20567.0</td>\n",
       "      <td>4.0</td>\n",
       "      <td>2.0</td>\n",
       "      <td>1.0</td>\n",
       "      <td>20160401</td>\n",
       "      <td>None</td>\n",
       "      <td>None</td>\n",
       "      <td>O</td>\n",
       "      <td>O</td>\n",
       "      <td>None</td>\n",
       "      <td>M</td>\n",
       "      <td>2012.0</td>\n",
       "      <td>09302016</td>\n",
       "      <td>None</td>\n",
       "      <td>None</td>\n",
       "      <td>AA</td>\n",
       "      <td>9.246846e+10</td>\n",
       "      <td>00199</td>\n",
       "      <td>B2</td>\n",
       "      <td>2016-04-01</td>\n",
       "      <td>2016-04-23</td>\n",
       "      <td>2016-04-01</td>\n",
       "      <td>2016-09-30</td>\n",
       "    </tr>\n",
       "  </tbody>\n",
       "</table>\n",
       "</div>"
      ],
      "text/plain": [
       "   cicid   i94yr  i94mon  i94cit  i94res i94port  arrdate  i94mode i94addr  \\\n",
       "0  6.0    2016.0  4.0     692.0   692.0   XXX     20573.0 NaN       None     \n",
       "1  7.0    2016.0  4.0     254.0   276.0   ATL     20551.0  1.0      AL       \n",
       "2  15.0   2016.0  4.0     101.0   101.0   WAS     20545.0  1.0      MI       \n",
       "3  16.0   2016.0  4.0     101.0   101.0   NYC     20545.0  1.0      MA       \n",
       "4  17.0   2016.0  4.0     101.0   101.0   NYC     20545.0  1.0      MA       \n",
       "\n",
       "   depdate  i94bir  i94visa  count  dtadfile visapost occup entdepa entdepd  \\\n",
       "0 NaN       37.0    2.0      1.0    None      None     None  T       None     \n",
       "1 NaN       25.0    3.0      1.0    20130811  SEO      None  G       None     \n",
       "2  20691.0  55.0    2.0      1.0    20160401  None     None  T       O        \n",
       "3  20567.0  28.0    2.0      1.0    20160401  None     None  O       O        \n",
       "4  20567.0  4.0     2.0      1.0    20160401  None     None  O       O        \n",
       "\n",
       "  entdepu matflag  biryear   dtaddto gender insnum airline        admnum  \\\n",
       "0  U       None    1979.0   10282016  None   None   None    1.897628e+09   \n",
       "1  Y       None    1991.0   D/S       M      None   None    3.736796e+09   \n",
       "2  None    M       1961.0   09302016  M      None   OS      6.666432e+08   \n",
       "3  None    M       1988.0   09302016  None   None   AA      9.246846e+10   \n",
       "4  None    M       2012.0   09302016  None   None   AA      9.246846e+10   \n",
       "\n",
       "   fltno visatype  dt_arrival dt_departure dt_add_tofile dt_stay_until  \n",
       "0  None   B2       2016-04-29  None         None          2016-10-28    \n",
       "1  00296  F1       2016-04-07  None         2013-08-11    None          \n",
       "2  93     B2       2016-04-01  2016-08-25   2016-04-01    2016-09-30    \n",
       "3  00199  B2       2016-04-01  2016-04-23   2016-04-01    2016-09-30    \n",
       "4  00199  B2       2016-04-01  2016-04-23   2016-04-01    2016-09-30    "
      ]
     },
     "execution_count": 15,
     "metadata": {},
     "output_type": "execute_result"
    },
    {
     "name": "stdout",
     "output_type": "stream",
     "text": [
      "time: 2.36 s (started: 2023-04-05 01:20:20 +00:00)\n"
     ]
    }
   ],
   "source": [
    "immigration.limit(5).toPandas()"
   ]
  },
  {
   "cell_type": "markdown",
   "metadata": {},
   "source": [
    "* checking and validating for garbage values in dates below"
   ]
  },
  {
   "cell_type": "code",
   "execution_count": 16,
   "metadata": {},
   "outputs": [
    {
     "name": "stdout",
     "output_type": "stream",
     "text": [
      "+--------+-------------+\n",
      "| dtaddto|dt_stay_until|\n",
      "+--------+-------------+\n",
      "|     183|         null|\n",
      "|10 02003|         null|\n",
      "|     D/S|         null|\n",
      "|06 02002|         null|\n",
      "|/   183D|         null|\n",
      "|12319999|         null|\n",
      "+--------+-------------+\n",
      "\n",
      "time: 42.7 s (started: 2023-04-05 01:20:22 +00:00)\n"
     ]
    }
   ],
   "source": [
    "# Validate \n",
    "vals = ['183', '10 02003', 'D/S', '06 02002', '/   183D', '12319999'] \n",
    "\n",
    "immigration.select(['dtaddto','dt_stay_until']).filter(F.col('dtaddto').isin(vals)).distinct().show()"
   ]
  },
  {
   "cell_type": "code",
   "execution_count": 17,
   "metadata": {},
   "outputs": [
    {
     "name": "stdout",
     "output_type": "stream",
     "text": [
      "root\n",
      " |-- cicid: double (nullable = true)\n",
      " |-- i94yr: double (nullable = true)\n",
      " |-- i94mon: double (nullable = true)\n",
      " |-- i94cit: double (nullable = true)\n",
      " |-- i94res: double (nullable = true)\n",
      " |-- i94port: string (nullable = true)\n",
      " |-- arrdate: double (nullable = true)\n",
      " |-- i94mode: double (nullable = true)\n",
      " |-- i94addr: string (nullable = true)\n",
      " |-- depdate: double (nullable = true)\n",
      " |-- i94bir: double (nullable = true)\n",
      " |-- i94visa: double (nullable = true)\n",
      " |-- count: double (nullable = true)\n",
      " |-- dtadfile: string (nullable = true)\n",
      " |-- visapost: string (nullable = true)\n",
      " |-- occup: string (nullable = true)\n",
      " |-- entdepa: string (nullable = true)\n",
      " |-- entdepd: string (nullable = true)\n",
      " |-- entdepu: string (nullable = true)\n",
      " |-- matflag: string (nullable = true)\n",
      " |-- biryear: double (nullable = true)\n",
      " |-- dtaddto: string (nullable = true)\n",
      " |-- gender: string (nullable = true)\n",
      " |-- insnum: string (nullable = true)\n",
      " |-- airline: string (nullable = true)\n",
      " |-- admnum: double (nullable = true)\n",
      " |-- fltno: string (nullable = true)\n",
      " |-- visatype: string (nullable = true)\n",
      " |-- dt_arrival: date (nullable = true)\n",
      " |-- dt_departure: date (nullable = true)\n",
      " |-- dt_add_tofile: date (nullable = true)\n",
      " |-- dt_stay_until: date (nullable = true)\n",
      "\n",
      "time: 8 ms (started: 2023-04-05 01:21:05 +00:00)\n"
     ]
    }
   ],
   "source": [
    "immigration.printSchema()"
   ]
  },
  {
   "cell_type": "markdown",
   "metadata": {},
   "source": [
    "* renaming columns to appropriate values"
   ]
  },
  {
   "cell_type": "code",
   "execution_count": 18,
   "metadata": {},
   "outputs": [
    {
     "name": "stdout",
     "output_type": "stream",
     "text": [
      "root\n",
      " |-- count: double (nullable = true)\n",
      " |-- occup: string (nullable = true)\n",
      " |-- insnum: string (nullable = true)\n",
      " |-- gender: string (nullable = true)\n",
      " |-- airline: string (nullable = true)\n",
      " |-- dt_arrival: date (nullable = true)\n",
      " |-- dt_departure: date (nullable = true)\n",
      " |-- dt_add_tofile: date (nullable = true)\n",
      " |-- dt_stay_until: date (nullable = true)\n",
      " |-- i94port_code: string (nullable = true)\n",
      " |-- arrival_state_code: string (nullable = true)\n",
      " |-- arrival_flag: string (nullable = true)\n",
      " |-- departure_flag: string (nullable = true)\n",
      " |-- update_flag: string (nullable = true)\n",
      " |-- match_flag: string (nullable = true)\n",
      " |-- flight_no: string (nullable = true)\n",
      " |-- visa_type: string (nullable = true)\n",
      " |-- cicid: integer (nullable = true)\n",
      " |-- entry_year: integer (nullable = true)\n",
      " |-- entry_month: integer (nullable = true)\n",
      " |-- country_of_birth: integer (nullable = true)\n",
      " |-- country_of_residence: integer (nullable = true)\n",
      " |-- i94_mode: integer (nullable = true)\n",
      " |-- age: integer (nullable = true)\n",
      " |-- visa_cat_code: integer (nullable = true)\n",
      " |-- visa_issued_state: integer (nullable = true)\n",
      " |-- birth_year: integer (nullable = true)\n",
      " |-- admission_num: decimal(15,0) (nullable = true)\n",
      "\n",
      "time: 654 ms (started: 2023-04-05 01:21:05 +00:00)\n"
     ]
    }
   ],
   "source": [
    "#Handling data types and renaming columns \n",
    "immigration_pre = util.immig_dtypes(immigration)\n",
    "immigration_pre.printSchema()"
   ]
  },
  {
   "cell_type": "code",
   "execution_count": 19,
   "metadata": {},
   "outputs": [
    {
     "name": "stdout",
     "output_type": "stream",
     "text": [
      "total row counts in immigration: 3096313 \n",
      "\n",
      "time: 36 s (started: 2023-04-05 01:21:06 +00:00)\n"
     ]
    }
   ],
   "source": [
    "#total row count\n",
    "print(f'total row counts in immigration: {immigration_pre.count()}', \"\\n\")"
   ]
  },
  {
   "cell_type": "markdown",
   "metadata": {},
   "source": [
    "* checking for missing values across all columns in the immigration dataset"
   ]
  },
  {
   "cell_type": "code",
   "execution_count": 20,
   "metadata": {},
   "outputs": [
    {
     "data": {
      "text/html": [
       "<div>\n",
       "<style scoped>\n",
       "    .dataframe tbody tr th:only-of-type {\n",
       "        vertical-align: middle;\n",
       "    }\n",
       "\n",
       "    .dataframe tbody tr th {\n",
       "        vertical-align: top;\n",
       "    }\n",
       "\n",
       "    .dataframe thead th {\n",
       "        text-align: right;\n",
       "    }\n",
       "</style>\n",
       "<table border=\"1\" class=\"dataframe\">\n",
       "  <thead>\n",
       "    <tr style=\"text-align: right;\">\n",
       "      <th></th>\n",
       "      <th>count</th>\n",
       "      <th>occup</th>\n",
       "      <th>insnum</th>\n",
       "      <th>gender</th>\n",
       "      <th>airline</th>\n",
       "      <th>dt_arrival</th>\n",
       "      <th>dt_departure</th>\n",
       "      <th>dt_add_tofile</th>\n",
       "      <th>dt_stay_until</th>\n",
       "      <th>i94port_code</th>\n",
       "      <th>arrival_state_code</th>\n",
       "      <th>arrival_flag</th>\n",
       "      <th>departure_flag</th>\n",
       "      <th>update_flag</th>\n",
       "      <th>match_flag</th>\n",
       "      <th>flight_no</th>\n",
       "      <th>visa_type</th>\n",
       "      <th>cicid</th>\n",
       "      <th>entry_year</th>\n",
       "      <th>entry_month</th>\n",
       "      <th>country_of_birth</th>\n",
       "      <th>country_of_residence</th>\n",
       "      <th>i94_mode</th>\n",
       "      <th>age</th>\n",
       "      <th>visa_cat_code</th>\n",
       "      <th>visa_issued_state</th>\n",
       "      <th>birth_year</th>\n",
       "      <th>admission_num</th>\n",
       "    </tr>\n",
       "  </thead>\n",
       "  <tbody>\n",
       "    <tr>\n",
       "      <th>0</th>\n",
       "      <td>0</td>\n",
       "      <td>3088187</td>\n",
       "      <td>2982605</td>\n",
       "      <td>414269</td>\n",
       "      <td>83627</td>\n",
       "      <td>0</td>\n",
       "      <td>142457</td>\n",
       "      <td>1</td>\n",
       "      <td>45826</td>\n",
       "      <td>0</td>\n",
       "      <td>152592</td>\n",
       "      <td>238</td>\n",
       "      <td>138429</td>\n",
       "      <td>3095921</td>\n",
       "      <td>138429</td>\n",
       "      <td>19549</td>\n",
       "      <td>0</td>\n",
       "      <td>0</td>\n",
       "      <td>0</td>\n",
       "      <td>0</td>\n",
       "      <td>0</td>\n",
       "      <td>0</td>\n",
       "      <td>239</td>\n",
       "      <td>802</td>\n",
       "      <td>0</td>\n",
       "      <td>3095709</td>\n",
       "      <td>802</td>\n",
       "      <td>0</td>\n",
       "    </tr>\n",
       "  </tbody>\n",
       "</table>\n",
       "</div>"
      ],
      "text/plain": [
       "   count    occup   insnum  gender  airline  dt_arrival  dt_departure  \\\n",
       "0  0      3088187  2982605  414269  83627    0           142457         \n",
       "\n",
       "   dt_add_tofile  dt_stay_until  i94port_code  arrival_state_code  \\\n",
       "0  1              45826          0             152592               \n",
       "\n",
       "   arrival_flag  departure_flag  update_flag  match_flag  flight_no  \\\n",
       "0  238           138429          3095921      138429      19549       \n",
       "\n",
       "   visa_type  cicid  entry_year  entry_month  country_of_birth  \\\n",
       "0  0          0      0           0            0                  \n",
       "\n",
       "   country_of_residence  i94_mode  age  visa_cat_code  visa_issued_state  \\\n",
       "0  0                     239       802  0              3095709             \n",
       "\n",
       "   birth_year  admission_num  \n",
       "0  802         0              "
      ]
     },
     "execution_count": 20,
     "metadata": {},
     "output_type": "execute_result"
    },
    {
     "name": "stdout",
     "output_type": "stream",
     "text": [
      "time: 5min 19s (started: 2023-04-05 01:21:42 +00:00)\n"
     ]
    }
   ],
   "source": [
    "# null value counts by column \n",
    "nulls = util.null_val_bycol(immigration_pre)\n",
    "nulls.limit(2).toPandas()\n",
    "# heavy on missing values and will be dropped from the fact table : occup, insnum, update_flag(entdepu) "
   ]
  },
  {
   "cell_type": "markdown",
   "metadata": {},
   "source": [
    "* checking for unique values across all columns "
   ]
  },
  {
   "cell_type": "code",
   "execution_count": 21,
   "metadata": {},
   "outputs": [
    {
     "data": {
      "text/html": [
       "<div>\n",
       "<style scoped>\n",
       "    .dataframe tbody tr th:only-of-type {\n",
       "        vertical-align: middle;\n",
       "    }\n",
       "\n",
       "    .dataframe tbody tr th {\n",
       "        vertical-align: top;\n",
       "    }\n",
       "\n",
       "    .dataframe thead th {\n",
       "        text-align: right;\n",
       "    }\n",
       "</style>\n",
       "<table border=\"1\" class=\"dataframe\">\n",
       "  <thead>\n",
       "    <tr style=\"text-align: right;\">\n",
       "      <th></th>\n",
       "      <th>count</th>\n",
       "      <th>occup</th>\n",
       "      <th>insnum</th>\n",
       "      <th>gender</th>\n",
       "      <th>airline</th>\n",
       "      <th>dt_arrival</th>\n",
       "      <th>dt_departure</th>\n",
       "      <th>dt_add_tofile</th>\n",
       "      <th>dt_stay_until</th>\n",
       "      <th>i94port_code</th>\n",
       "      <th>arrival_state_code</th>\n",
       "      <th>arrival_flag</th>\n",
       "      <th>departure_flag</th>\n",
       "      <th>update_flag</th>\n",
       "      <th>match_flag</th>\n",
       "      <th>flight_no</th>\n",
       "      <th>visa_type</th>\n",
       "      <th>cicid</th>\n",
       "      <th>entry_year</th>\n",
       "      <th>entry_month</th>\n",
       "      <th>country_of_birth</th>\n",
       "      <th>country_of_residence</th>\n",
       "      <th>i94_mode</th>\n",
       "      <th>age</th>\n",
       "      <th>visa_cat_code</th>\n",
       "      <th>visa_issued_state</th>\n",
       "      <th>birth_year</th>\n",
       "      <th>admission_num</th>\n",
       "    </tr>\n",
       "  </thead>\n",
       "  <tbody>\n",
       "    <tr>\n",
       "      <th>0</th>\n",
       "      <td>1</td>\n",
       "      <td>111</td>\n",
       "      <td>1913</td>\n",
       "      <td>4</td>\n",
       "      <td>534</td>\n",
       "      <td>30</td>\n",
       "      <td>235</td>\n",
       "      <td>117</td>\n",
       "      <td>771</td>\n",
       "      <td>299</td>\n",
       "      <td>457</td>\n",
       "      <td>13</td>\n",
       "      <td>12</td>\n",
       "      <td>2</td>\n",
       "      <td>1</td>\n",
       "      <td>7152</td>\n",
       "      <td>17</td>\n",
       "      <td>3096313</td>\n",
       "      <td>1</td>\n",
       "      <td>1</td>\n",
       "      <td>243</td>\n",
       "      <td>229</td>\n",
       "      <td>4</td>\n",
       "      <td>112</td>\n",
       "      <td>3</td>\n",
       "      <td>1</td>\n",
       "      <td>112</td>\n",
       "      <td>3075579</td>\n",
       "    </tr>\n",
       "  </tbody>\n",
       "</table>\n",
       "</div>"
      ],
      "text/plain": [
       "   count  occup  insnum  gender  airline  dt_arrival  dt_departure  \\\n",
       "0  1      111    1913    4       534      30          235            \n",
       "\n",
       "   dt_add_tofile  dt_stay_until  i94port_code  arrival_state_code  \\\n",
       "0  117            771            299           457                  \n",
       "\n",
       "   arrival_flag  departure_flag  update_flag  match_flag  flight_no  \\\n",
       "0  13            12              2            1           7152        \n",
       "\n",
       "   visa_type    cicid  entry_year  entry_month  country_of_birth  \\\n",
       "0  17         3096313  1           1            243                \n",
       "\n",
       "   country_of_residence  i94_mode  age  visa_cat_code  visa_issued_state  \\\n",
       "0  229                   4         112  3              1                   \n",
       "\n",
       "   birth_year  admission_num  \n",
       "0  112         3075579        "
      ]
     },
     "execution_count": 21,
     "metadata": {},
     "output_type": "execute_result"
    },
    {
     "name": "stdout",
     "output_type": "stream",
     "text": [
      "time: 3min 57s (started: 2023-04-05 01:27:01 +00:00)\n"
     ]
    }
   ],
   "source": [
    "# count distinct values by column \n",
    "unique = util.unique_val_bycol(immigration_pre)\n",
    "\n",
    "unique.limit(2).toPandas()"
   ]
  },
  {
   "cell_type": "markdown",
   "metadata": {},
   "source": [
    "* dropping duplicates by 'admission_num' from the df"
   ]
  },
  {
   "cell_type": "code",
   "execution_count": 22,
   "metadata": {},
   "outputs": [
    {
     "data": {
      "text/plain": [
       "3075579"
      ]
     },
     "execution_count": 22,
     "metadata": {},
     "output_type": "execute_result"
    },
    {
     "name": "stdout",
     "output_type": "stream",
     "text": [
      "time: 41.4 s (started: 2023-04-05 01:30:59 +00:00)\n"
     ]
    }
   ],
   "source": [
    "immigration_cleaned = immigration_pre.dropDuplicates(['admission_num'])\n",
    "\n",
    "immigration_cleaned.count()"
   ]
  },
  {
   "cell_type": "code",
   "execution_count": 23,
   "metadata": {},
   "outputs": [
    {
     "data": {
      "text/html": [
       "<div>\n",
       "<style scoped>\n",
       "    .dataframe tbody tr th:only-of-type {\n",
       "        vertical-align: middle;\n",
       "    }\n",
       "\n",
       "    .dataframe tbody tr th {\n",
       "        vertical-align: top;\n",
       "    }\n",
       "\n",
       "    .dataframe thead th {\n",
       "        text-align: right;\n",
       "    }\n",
       "</style>\n",
       "<table border=\"1\" class=\"dataframe\">\n",
       "  <thead>\n",
       "    <tr style=\"text-align: right;\">\n",
       "      <th></th>\n",
       "      <th>count</th>\n",
       "      <th>occup</th>\n",
       "      <th>insnum</th>\n",
       "      <th>gender</th>\n",
       "      <th>airline</th>\n",
       "      <th>dt_arrival</th>\n",
       "      <th>dt_departure</th>\n",
       "      <th>dt_add_tofile</th>\n",
       "      <th>dt_stay_until</th>\n",
       "      <th>i94port_code</th>\n",
       "      <th>arrival_state_code</th>\n",
       "      <th>arrival_flag</th>\n",
       "      <th>departure_flag</th>\n",
       "      <th>update_flag</th>\n",
       "      <th>match_flag</th>\n",
       "      <th>flight_no</th>\n",
       "      <th>visa_type</th>\n",
       "      <th>cicid</th>\n",
       "      <th>entry_year</th>\n",
       "      <th>entry_month</th>\n",
       "      <th>country_of_birth</th>\n",
       "      <th>country_of_residence</th>\n",
       "      <th>i94_mode</th>\n",
       "      <th>age</th>\n",
       "      <th>visa_cat_code</th>\n",
       "      <th>visa_issued_state</th>\n",
       "      <th>birth_year</th>\n",
       "      <th>admission_num</th>\n",
       "    </tr>\n",
       "  </thead>\n",
       "  <tbody>\n",
       "    <tr>\n",
       "      <th>0</th>\n",
       "      <td>1.0</td>\n",
       "      <td>None</td>\n",
       "      <td>None</td>\n",
       "      <td>F</td>\n",
       "      <td>DL</td>\n",
       "      <td>2016-04-01</td>\n",
       "      <td>2016-05-09</td>\n",
       "      <td>2016-04-01</td>\n",
       "      <td>None</td>\n",
       "      <td>DET</td>\n",
       "      <td>MI</td>\n",
       "      <td>U</td>\n",
       "      <td>O</td>\n",
       "      <td>None</td>\n",
       "      <td>M</td>\n",
       "      <td>158</td>\n",
       "      <td>F2</td>\n",
       "      <td>74750</td>\n",
       "      <td>2016</td>\n",
       "      <td>4</td>\n",
       "      <td>254</td>\n",
       "      <td>276</td>\n",
       "      <td>1</td>\n",
       "      <td>35</td>\n",
       "      <td>3</td>\n",
       "      <td>None</td>\n",
       "      <td>1981</td>\n",
       "      <td>209395185</td>\n",
       "    </tr>\n",
       "    <tr>\n",
       "      <th>1</th>\n",
       "      <td>1.0</td>\n",
       "      <td>None</td>\n",
       "      <td>None</td>\n",
       "      <td>M</td>\n",
       "      <td>None</td>\n",
       "      <td>2016-04-13</td>\n",
       "      <td>2016-04-24</td>\n",
       "      <td>2016-04-13</td>\n",
       "      <td>2018-01-08</td>\n",
       "      <td>OTM</td>\n",
       "      <td>None</td>\n",
       "      <td>Z</td>\n",
       "      <td>O</td>\n",
       "      <td>None</td>\n",
       "      <td>M</td>\n",
       "      <td>415</td>\n",
       "      <td>E2</td>\n",
       "      <td>2322334</td>\n",
       "      <td>2016</td>\n",
       "      <td>4</td>\n",
       "      <td>129</td>\n",
       "      <td>129</td>\n",
       "      <td>3</td>\n",
       "      <td>51</td>\n",
       "      <td>1</td>\n",
       "      <td>None</td>\n",
       "      <td>1965</td>\n",
       "      <td>324673385</td>\n",
       "    </tr>\n",
       "    <tr>\n",
       "      <th>2</th>\n",
       "      <td>1.0</td>\n",
       "      <td>None</td>\n",
       "      <td>None</td>\n",
       "      <td>M</td>\n",
       "      <td>85J</td>\n",
       "      <td>2016-04-05</td>\n",
       "      <td>2016-04-06</td>\n",
       "      <td>2016-04-05</td>\n",
       "      <td>2016-07-08</td>\n",
       "      <td>LAR</td>\n",
       "      <td>AL</td>\n",
       "      <td>H</td>\n",
       "      <td>R</td>\n",
       "      <td>None</td>\n",
       "      <td>M</td>\n",
       "      <td>0687C</td>\n",
       "      <td>B1</td>\n",
       "      <td>935651</td>\n",
       "      <td>2016</td>\n",
       "      <td>4</td>\n",
       "      <td>582</td>\n",
       "      <td>582</td>\n",
       "      <td>1</td>\n",
       "      <td>34</td>\n",
       "      <td>1</td>\n",
       "      <td>None</td>\n",
       "      <td>1982</td>\n",
       "      <td>324770585</td>\n",
       "    </tr>\n",
       "    <tr>\n",
       "      <th>3</th>\n",
       "      <td>1.0</td>\n",
       "      <td>None</td>\n",
       "      <td>None</td>\n",
       "      <td>F</td>\n",
       "      <td>B6</td>\n",
       "      <td>2016-04-29</td>\n",
       "      <td>2016-05-22</td>\n",
       "      <td>2016-04-29</td>\n",
       "      <td>None</td>\n",
       "      <td>NAS</td>\n",
       "      <td>MA</td>\n",
       "      <td>H</td>\n",
       "      <td>N</td>\n",
       "      <td>None</td>\n",
       "      <td>M</td>\n",
       "      <td>00910</td>\n",
       "      <td>F1</td>\n",
       "      <td>5442902</td>\n",
       "      <td>2016</td>\n",
       "      <td>4</td>\n",
       "      <td>129</td>\n",
       "      <td>129</td>\n",
       "      <td>1</td>\n",
       "      <td>23</td>\n",
       "      <td>3</td>\n",
       "      <td>None</td>\n",
       "      <td>1993</td>\n",
       "      <td>334434085</td>\n",
       "    </tr>\n",
       "    <tr>\n",
       "      <th>4</th>\n",
       "      <td>1.0</td>\n",
       "      <td>None</td>\n",
       "      <td>3669</td>\n",
       "      <td>M</td>\n",
       "      <td>UA</td>\n",
       "      <td>2016-04-10</td>\n",
       "      <td>None</td>\n",
       "      <td>2016-06-08</td>\n",
       "      <td>2016-05-24</td>\n",
       "      <td>AGA</td>\n",
       "      <td>GU</td>\n",
       "      <td>A</td>\n",
       "      <td>None</td>\n",
       "      <td>None</td>\n",
       "      <td>None</td>\n",
       "      <td>00136</td>\n",
       "      <td>GMT</td>\n",
       "      <td>5945017</td>\n",
       "      <td>2016</td>\n",
       "      <td>4</td>\n",
       "      <td>252</td>\n",
       "      <td>209</td>\n",
       "      <td>1</td>\n",
       "      <td>69</td>\n",
       "      <td>2</td>\n",
       "      <td>None</td>\n",
       "      <td>1947</td>\n",
       "      <td>543561533</td>\n",
       "    </tr>\n",
       "  </tbody>\n",
       "</table>\n",
       "</div>"
      ],
      "text/plain": [
       "   count occup insnum gender airline  dt_arrival dt_departure dt_add_tofile  \\\n",
       "0  1.0    None  None   F      DL      2016-04-01  2016-05-09   2016-04-01     \n",
       "1  1.0    None  None   M      None    2016-04-13  2016-04-24   2016-04-13     \n",
       "2  1.0    None  None   M      85J     2016-04-05  2016-04-06   2016-04-05     \n",
       "3  1.0    None  None   F      B6      2016-04-29  2016-05-22   2016-04-29     \n",
       "4  1.0    None  3669   M      UA      2016-04-10  None         2016-06-08     \n",
       "\n",
       "  dt_stay_until i94port_code arrival_state_code arrival_flag departure_flag  \\\n",
       "0  None          DET          MI                 U            O               \n",
       "1  2018-01-08    OTM          None               Z            O               \n",
       "2  2016-07-08    LAR          AL                 H            R               \n",
       "3  None          NAS          MA                 H            N               \n",
       "4  2016-05-24    AGA          GU                 A            None            \n",
       "\n",
       "  update_flag match_flag flight_no visa_type    cicid  entry_year  \\\n",
       "0  None        M          158       F2        74750    2016         \n",
       "1  None        M          415       E2        2322334  2016         \n",
       "2  None        M          0687C     B1        935651   2016         \n",
       "3  None        M          00910     F1        5442902  2016         \n",
       "4  None        None       00136     GMT       5945017  2016         \n",
       "\n",
       "   entry_month  country_of_birth  country_of_residence  i94_mode  age  \\\n",
       "0  4            254               276                   1         35    \n",
       "1  4            129               129                   3         51    \n",
       "2  4            582               582                   1         34    \n",
       "3  4            129               129                   1         23    \n",
       "4  4            252               209                   1         69    \n",
       "\n",
       "   visa_cat_code visa_issued_state  birth_year admission_num  \n",
       "0  3              None              1981        209395185     \n",
       "1  1              None              1965        324673385     \n",
       "2  1              None              1982        324770585     \n",
       "3  3              None              1993        334434085     \n",
       "4  2              None              1947        543561533     "
      ]
     },
     "execution_count": 23,
     "metadata": {},
     "output_type": "execute_result"
    },
    {
     "name": "stdout",
     "output_type": "stream",
     "text": [
      "time: 2min 54s (started: 2023-04-05 01:31:40 +00:00)\n"
     ]
    }
   ],
   "source": [
    "immigration_cleaned.limit(5).toPandas()"
   ]
  },
  {
   "cell_type": "markdown",
   "metadata": {},
   "source": [
    "##### (2): Cleaning - demographics"
   ]
  },
  {
   "cell_type": "code",
   "execution_count": 24,
   "metadata": {},
   "outputs": [
    {
     "name": "stdout",
     "output_type": "stream",
     "text": [
      "root\n",
      " |-- city: string (nullable = true)\n",
      " |-- state: string (nullable = true)\n",
      " |-- median_age: string (nullable = true)\n",
      " |-- male_population: string (nullable = true)\n",
      " |-- female_population: string (nullable = true)\n",
      " |-- total_population: string (nullable = true)\n",
      " |-- number_of_veterans: string (nullable = true)\n",
      " |-- foreign_born: string (nullable = true)\n",
      " |-- average_household_size: string (nullable = true)\n",
      " |-- state_code: string (nullable = true)\n",
      " |-- race: string (nullable = true)\n",
      " |-- count: string (nullable = true)\n",
      "\n",
      "time: 83.8 ms (started: 2023-04-05 01:34:35 +00:00)\n"
     ]
    }
   ],
   "source": [
    "demographics = util.col_names_conversion(demographics_spark_df)\n",
    "demographics.printSchema()"
   ]
  },
  {
   "cell_type": "code",
   "execution_count": 25,
   "metadata": {},
   "outputs": [
    {
     "data": {
      "text/html": [
       "<div>\n",
       "<style scoped>\n",
       "    .dataframe tbody tr th:only-of-type {\n",
       "        vertical-align: middle;\n",
       "    }\n",
       "\n",
       "    .dataframe tbody tr th {\n",
       "        vertical-align: top;\n",
       "    }\n",
       "\n",
       "    .dataframe thead th {\n",
       "        text-align: right;\n",
       "    }\n",
       "</style>\n",
       "<table border=\"1\" class=\"dataframe\">\n",
       "  <thead>\n",
       "    <tr style=\"text-align: right;\">\n",
       "      <th></th>\n",
       "      <th>city</th>\n",
       "      <th>state</th>\n",
       "      <th>median_age</th>\n",
       "      <th>male_population</th>\n",
       "      <th>female_population</th>\n",
       "      <th>total_population</th>\n",
       "      <th>number_of_veterans</th>\n",
       "      <th>foreign_born</th>\n",
       "      <th>average_household_size</th>\n",
       "      <th>state_code</th>\n",
       "      <th>race</th>\n",
       "      <th>count</th>\n",
       "    </tr>\n",
       "  </thead>\n",
       "  <tbody>\n",
       "    <tr>\n",
       "      <th>0</th>\n",
       "      <td>Silver Spring</td>\n",
       "      <td>Maryland</td>\n",
       "      <td>33.8</td>\n",
       "      <td>40601</td>\n",
       "      <td>41862</td>\n",
       "      <td>82463</td>\n",
       "      <td>1562</td>\n",
       "      <td>30908</td>\n",
       "      <td>2.6</td>\n",
       "      <td>MD</td>\n",
       "      <td>Hispanic or Latino</td>\n",
       "      <td>25924</td>\n",
       "    </tr>\n",
       "    <tr>\n",
       "      <th>1</th>\n",
       "      <td>Quincy</td>\n",
       "      <td>Massachusetts</td>\n",
       "      <td>41.0</td>\n",
       "      <td>44129</td>\n",
       "      <td>49500</td>\n",
       "      <td>93629</td>\n",
       "      <td>4147</td>\n",
       "      <td>32935</td>\n",
       "      <td>2.39</td>\n",
       "      <td>MA</td>\n",
       "      <td>White</td>\n",
       "      <td>58723</td>\n",
       "    </tr>\n",
       "    <tr>\n",
       "      <th>2</th>\n",
       "      <td>Hoover</td>\n",
       "      <td>Alabama</td>\n",
       "      <td>38.5</td>\n",
       "      <td>38040</td>\n",
       "      <td>46799</td>\n",
       "      <td>84839</td>\n",
       "      <td>4819</td>\n",
       "      <td>8229</td>\n",
       "      <td>2.58</td>\n",
       "      <td>AL</td>\n",
       "      <td>Asian</td>\n",
       "      <td>4759</td>\n",
       "    </tr>\n",
       "    <tr>\n",
       "      <th>3</th>\n",
       "      <td>Rancho Cucamonga</td>\n",
       "      <td>California</td>\n",
       "      <td>34.5</td>\n",
       "      <td>88127</td>\n",
       "      <td>87105</td>\n",
       "      <td>175232</td>\n",
       "      <td>5821</td>\n",
       "      <td>33878</td>\n",
       "      <td>3.18</td>\n",
       "      <td>CA</td>\n",
       "      <td>Black or African-American</td>\n",
       "      <td>24437</td>\n",
       "    </tr>\n",
       "    <tr>\n",
       "      <th>4</th>\n",
       "      <td>Newark</td>\n",
       "      <td>New Jersey</td>\n",
       "      <td>34.6</td>\n",
       "      <td>138040</td>\n",
       "      <td>143873</td>\n",
       "      <td>281913</td>\n",
       "      <td>5829</td>\n",
       "      <td>86253</td>\n",
       "      <td>2.73</td>\n",
       "      <td>NJ</td>\n",
       "      <td>White</td>\n",
       "      <td>76402</td>\n",
       "    </tr>\n",
       "  </tbody>\n",
       "</table>\n",
       "</div>"
      ],
      "text/plain": [
       "               city          state median_age male_population  \\\n",
       "0  Silver Spring     Maryland       33.8       40601            \n",
       "1  Quincy            Massachusetts  41.0       44129            \n",
       "2  Hoover            Alabama        38.5       38040            \n",
       "3  Rancho Cucamonga  California     34.5       88127            \n",
       "4  Newark            New Jersey     34.6       138040           \n",
       "\n",
       "  female_population total_population number_of_veterans foreign_born  \\\n",
       "0  41862             82463            1562               30908         \n",
       "1  49500             93629            4147               32935         \n",
       "2  46799             84839            4819               8229          \n",
       "3  87105             175232           5821               33878         \n",
       "4  143873            281913           5829               86253         \n",
       "\n",
       "  average_household_size state_code                       race  count  \n",
       "0  2.6                    MD         Hispanic or Latino         25924  \n",
       "1  2.39                   MA         White                      58723  \n",
       "2  2.58                   AL         Asian                      4759   \n",
       "3  3.18                   CA         Black or African-American  24437  \n",
       "4  2.73                   NJ         White                      76402  "
      ]
     },
     "execution_count": 25,
     "metadata": {},
     "output_type": "execute_result"
    },
    {
     "name": "stdout",
     "output_type": "stream",
     "text": [
      "time: 181 ms (started: 2023-04-05 01:34:35 +00:00)\n"
     ]
    }
   ],
   "source": [
    "demographics.limit(5).toPandas()"
   ]
  },
  {
   "cell_type": "markdown",
   "metadata": {},
   "source": [
    "* pivoting data pertaining to race from rows to columns and aggegating by state "
   ]
  },
  {
   "cell_type": "code",
   "execution_count": 26,
   "metadata": {},
   "outputs": [
    {
     "name": "stdout",
     "output_type": "stream",
     "text": [
      "root\n",
      " |-- city: string (nullable = true)\n",
      " |-- state: string (nullable = true)\n",
      " |-- median_age: string (nullable = true)\n",
      " |-- male_population: string (nullable = true)\n",
      " |-- female_population: string (nullable = true)\n",
      " |-- total_population: string (nullable = true)\n",
      " |-- number_of_veterans: string (nullable = true)\n",
      " |-- foreign_born: string (nullable = true)\n",
      " |-- average_household_size: string (nullable = true)\n",
      " |-- state_code: string (nullable = true)\n",
      " |-- American Indian and Alaska Native: integer (nullable = false)\n",
      " |-- Asian: integer (nullable = false)\n",
      " |-- Black or African-American: integer (nullable = false)\n",
      " |-- Hispanic or Latino: integer (nullable = false)\n",
      " |-- White: integer (nullable = false)\n",
      "\n",
      "time: 2.01 s (started: 2023-04-05 01:34:36 +00:00)\n"
     ]
    }
   ],
   "source": [
    "# Pivot Race from rows to columns across the DF\n",
    "demographics_pivot = util.pivot_demog(demographics)\n",
    "\n",
    "demographics_pivot.printSchema()"
   ]
  },
  {
   "cell_type": "code",
   "execution_count": 27,
   "metadata": {},
   "outputs": [
    {
     "name": "stdout",
     "output_type": "stream",
     "text": [
      "root\n",
      " |-- city: string (nullable = true)\n",
      " |-- state: string (nullable = true)\n",
      " |-- state_code: string (nullable = true)\n",
      " |-- native_pop: integer (nullable = false)\n",
      " |-- asian_pop: integer (nullable = false)\n",
      " |-- african_american_pop: integer (nullable = false)\n",
      " |-- hispanic_pop: integer (nullable = false)\n",
      " |-- white_pop: integer (nullable = false)\n",
      " |-- median_age: float (nullable = true)\n",
      " |-- male_pop: integer (nullable = true)\n",
      " |-- female_pop: integer (nullable = true)\n",
      " |-- total_pop: integer (nullable = true)\n",
      " |-- number_of_veterans: integer (nullable = true)\n",
      " |-- foreign_born: integer (nullable = true)\n",
      " |-- average_household_size: float (nullable = true)\n",
      "\n",
      "time: 110 ms (started: 2023-04-05 01:34:38 +00:00)\n"
     ]
    }
   ],
   "source": [
    "# Renaming columns and changing data types in dataframe\n",
    "demographics_cleaned = util.demog_dtypes(demographics_pivot)\n",
    "demographics_cleaned.printSchema()"
   ]
  },
  {
   "cell_type": "markdown",
   "metadata": {},
   "source": [
    "* checking for missing values across demographics_cleaned"
   ]
  },
  {
   "cell_type": "code",
   "execution_count": 28,
   "metadata": {},
   "outputs": [
    {
     "data": {
      "text/html": [
       "<div>\n",
       "<style scoped>\n",
       "    .dataframe tbody tr th:only-of-type {\n",
       "        vertical-align: middle;\n",
       "    }\n",
       "\n",
       "    .dataframe tbody tr th {\n",
       "        vertical-align: top;\n",
       "    }\n",
       "\n",
       "    .dataframe thead th {\n",
       "        text-align: right;\n",
       "    }\n",
       "</style>\n",
       "<table border=\"1\" class=\"dataframe\">\n",
       "  <thead>\n",
       "    <tr style=\"text-align: right;\">\n",
       "      <th></th>\n",
       "      <th>city</th>\n",
       "      <th>state</th>\n",
       "      <th>state_code</th>\n",
       "      <th>native_pop</th>\n",
       "      <th>asian_pop</th>\n",
       "      <th>african_american_pop</th>\n",
       "      <th>hispanic_pop</th>\n",
       "      <th>white_pop</th>\n",
       "      <th>median_age</th>\n",
       "      <th>male_pop</th>\n",
       "      <th>female_pop</th>\n",
       "      <th>total_pop</th>\n",
       "      <th>number_of_veterans</th>\n",
       "      <th>foreign_born</th>\n",
       "      <th>average_household_size</th>\n",
       "    </tr>\n",
       "  </thead>\n",
       "  <tbody>\n",
       "    <tr>\n",
       "      <th>0</th>\n",
       "      <td>0</td>\n",
       "      <td>0</td>\n",
       "      <td>0</td>\n",
       "      <td>0</td>\n",
       "      <td>0</td>\n",
       "      <td>0</td>\n",
       "      <td>0</td>\n",
       "      <td>0</td>\n",
       "      <td>0</td>\n",
       "      <td>1</td>\n",
       "      <td>1</td>\n",
       "      <td>0</td>\n",
       "      <td>7</td>\n",
       "      <td>7</td>\n",
       "      <td>8</td>\n",
       "    </tr>\n",
       "  </tbody>\n",
       "</table>\n",
       "</div>"
      ],
      "text/plain": [
       "   city  state  state_code  native_pop  asian_pop  african_american_pop  \\\n",
       "0  0     0      0           0           0          0                      \n",
       "\n",
       "   hispanic_pop  white_pop  median_age  male_pop  female_pop  total_pop  \\\n",
       "0  0             0          0           1         1           0           \n",
       "\n",
       "   number_of_veterans  foreign_born  average_household_size  \n",
       "0  7                   7             8                       "
      ]
     },
     "execution_count": 28,
     "metadata": {},
     "output_type": "execute_result"
    },
    {
     "name": "stdout",
     "output_type": "stream",
     "text": [
      "time: 11.7 s (started: 2023-04-05 01:34:38 +00:00)\n"
     ]
    }
   ],
   "source": [
    "# null counts across the dataframe\n",
    "nulls = util.null_val_bycol(demographics_cleaned)\n",
    "nulls.limit(2).toPandas()"
   ]
  },
  {
   "cell_type": "code",
   "execution_count": 29,
   "metadata": {},
   "outputs": [
    {
     "name": "stdout",
     "output_type": "stream",
     "text": [
      "total row counts in demographics: 596 \n",
      "\n",
      "time: 5.65 s (started: 2023-04-05 01:34:49 +00:00)\n"
     ]
    }
   ],
   "source": [
    "#total row count\n",
    "print(f'total row counts in demographics: {demographics_cleaned.count()}', \"\\n\")"
   ]
  },
  {
   "cell_type": "markdown",
   "metadata": {},
   "source": [
    "##### (3):- Cleaning - i94port"
   ]
  },
  {
   "cell_type": "code",
   "execution_count": 30,
   "metadata": {},
   "outputs": [
    {
     "data": {
      "text/plain": [
       "['port_code', 'port', 'port_city', 'port_state']"
      ]
     },
     "execution_count": 30,
     "metadata": {},
     "output_type": "execute_result"
    },
    {
     "name": "stdout",
     "output_type": "stream",
     "text": [
      "time: 234 ms (started: 2023-04-05 01:34:55 +00:00)\n"
     ]
    }
   ],
   "source": [
    "i94port_cleaned = util.clean_i94port_names(i94port_spark_df)\n",
    "i94port_cleaned.columns"
   ]
  },
  {
   "cell_type": "markdown",
   "metadata": {},
   "source": [
    "* checking for missing values across port data"
   ]
  },
  {
   "cell_type": "code",
   "execution_count": 31,
   "metadata": {},
   "outputs": [
    {
     "data": {
      "text/html": [
       "<div>\n",
       "<style scoped>\n",
       "    .dataframe tbody tr th:only-of-type {\n",
       "        vertical-align: middle;\n",
       "    }\n",
       "\n",
       "    .dataframe tbody tr th {\n",
       "        vertical-align: top;\n",
       "    }\n",
       "\n",
       "    .dataframe thead th {\n",
       "        text-align: right;\n",
       "    }\n",
       "</style>\n",
       "<table border=\"1\" class=\"dataframe\">\n",
       "  <thead>\n",
       "    <tr style=\"text-align: right;\">\n",
       "      <th></th>\n",
       "      <th>port_code</th>\n",
       "      <th>port</th>\n",
       "      <th>port_city</th>\n",
       "      <th>port_state</th>\n",
       "    </tr>\n",
       "  </thead>\n",
       "  <tbody>\n",
       "    <tr>\n",
       "      <th>0</th>\n",
       "      <td>0</td>\n",
       "      <td>0</td>\n",
       "      <td>0</td>\n",
       "      <td>76</td>\n",
       "    </tr>\n",
       "  </tbody>\n",
       "</table>\n",
       "</div>"
      ],
      "text/plain": [
       "   port_code  port  port_city  port_state\n",
       "0  0          0     0          76        "
      ]
     },
     "execution_count": 31,
     "metadata": {},
     "output_type": "execute_result"
    },
    {
     "name": "stdout",
     "output_type": "stream",
     "text": [
      "time: 525 ms (started: 2023-04-05 01:34:55 +00:00)\n"
     ]
    }
   ],
   "source": [
    "# null counts across the dataframe\n",
    "nulls = util.null_val_bycol(i94port_cleaned)\n",
    "nulls.limit(2).toPandas()"
   ]
  },
  {
   "cell_type": "code",
   "execution_count": 32,
   "metadata": {},
   "outputs": [
    {
     "name": "stdout",
     "output_type": "stream",
     "text": [
      "total row counts in i94port: 660 \n",
      "\n"
     ]
    },
    {
     "data": {
      "text/html": [
       "<div>\n",
       "<style scoped>\n",
       "    .dataframe tbody tr th:only-of-type {\n",
       "        vertical-align: middle;\n",
       "    }\n",
       "\n",
       "    .dataframe tbody tr th {\n",
       "        vertical-align: top;\n",
       "    }\n",
       "\n",
       "    .dataframe thead th {\n",
       "        text-align: right;\n",
       "    }\n",
       "</style>\n",
       "<table border=\"1\" class=\"dataframe\">\n",
       "  <thead>\n",
       "    <tr style=\"text-align: right;\">\n",
       "      <th></th>\n",
       "      <th>port_code</th>\n",
       "      <th>port</th>\n",
       "      <th>port_city</th>\n",
       "      <th>port_state</th>\n",
       "    </tr>\n",
       "  </thead>\n",
       "  <tbody>\n",
       "    <tr>\n",
       "      <th>0</th>\n",
       "      <td>660</td>\n",
       "      <td>657</td>\n",
       "      <td>634</td>\n",
       "      <td>103</td>\n",
       "    </tr>\n",
       "  </tbody>\n",
       "</table>\n",
       "</div>"
      ],
      "text/plain": [
       "   port_code  port  port_city  port_state\n",
       "0  660        657   634        103       "
      ]
     },
     "execution_count": 32,
     "metadata": {},
     "output_type": "execute_result"
    },
    {
     "name": "stdout",
     "output_type": "stream",
     "text": [
      "time: 2.17 s (started: 2023-04-05 01:34:56 +00:00)\n"
     ]
    }
   ],
   "source": [
    "#total row count\n",
    "print(f'total row counts in i94port: {i94port_cleaned.count()}', \"\\n\")\n",
    "\n",
    "# count distinct values by column \n",
    "unique = util.unique_val_bycol(i94port_cleaned)\n",
    "unique.limit(2).toPandas()"
   ]
  },
  {
   "cell_type": "markdown",
   "metadata": {},
   "source": [
    "##### (4):- Cleaning - Country"
   ]
  },
  {
   "cell_type": "code",
   "execution_count": 33,
   "metadata": {},
   "outputs": [
    {
     "data": {
      "text/plain": [
       "['country_code', 'country_name']"
      ]
     },
     "execution_count": 33,
     "metadata": {},
     "output_type": "execute_result"
    },
    {
     "name": "stdout",
     "output_type": "stream",
     "text": [
      "time: 30.9 ms (started: 2023-04-05 01:34:58 +00:00)\n"
     ]
    }
   ],
   "source": [
    "country_cleaned = util.col_names_conversion(country_spark_df)\n",
    "country_cleaned.columns"
   ]
  },
  {
   "cell_type": "code",
   "execution_count": 34,
   "metadata": {},
   "outputs": [
    {
     "data": {
      "text/html": [
       "<div>\n",
       "<style scoped>\n",
       "    .dataframe tbody tr th:only-of-type {\n",
       "        vertical-align: middle;\n",
       "    }\n",
       "\n",
       "    .dataframe tbody tr th {\n",
       "        vertical-align: top;\n",
       "    }\n",
       "\n",
       "    .dataframe thead th {\n",
       "        text-align: right;\n",
       "    }\n",
       "</style>\n",
       "<table border=\"1\" class=\"dataframe\">\n",
       "  <thead>\n",
       "    <tr style=\"text-align: right;\">\n",
       "      <th></th>\n",
       "      <th>country_code</th>\n",
       "      <th>country_name</th>\n",
       "    </tr>\n",
       "  </thead>\n",
       "  <tbody>\n",
       "    <tr>\n",
       "      <th>0</th>\n",
       "      <td>0</td>\n",
       "      <td>0</td>\n",
       "    </tr>\n",
       "  </tbody>\n",
       "</table>\n",
       "</div>"
      ],
      "text/plain": [
       "   country_code  country_name\n",
       "0  0             0           "
      ]
     },
     "execution_count": 34,
     "metadata": {},
     "output_type": "execute_result"
    },
    {
     "name": "stdout",
     "output_type": "stream",
     "text": [
      "time: 357 ms (started: 2023-04-05 01:34:58 +00:00)\n"
     ]
    }
   ],
   "source": [
    "# null counts across the dataframe\n",
    "nulls = util.null_val_bycol(country_cleaned)\n",
    "nulls.limit(2).toPandas()"
   ]
  },
  {
   "cell_type": "code",
   "execution_count": 35,
   "metadata": {},
   "outputs": [
    {
     "name": "stdout",
     "output_type": "stream",
     "text": [
      "total row counts in country 289 \n",
      "\n"
     ]
    },
    {
     "data": {
      "text/html": [
       "<div>\n",
       "<style scoped>\n",
       "    .dataframe tbody tr th:only-of-type {\n",
       "        vertical-align: middle;\n",
       "    }\n",
       "\n",
       "    .dataframe tbody tr th {\n",
       "        vertical-align: top;\n",
       "    }\n",
       "\n",
       "    .dataframe thead th {\n",
       "        text-align: right;\n",
       "    }\n",
       "</style>\n",
       "<table border=\"1\" class=\"dataframe\">\n",
       "  <thead>\n",
       "    <tr style=\"text-align: right;\">\n",
       "      <th></th>\n",
       "      <th>country_code</th>\n",
       "      <th>country_name</th>\n",
       "    </tr>\n",
       "  </thead>\n",
       "  <tbody>\n",
       "    <tr>\n",
       "      <th>0</th>\n",
       "      <td>289</td>\n",
       "      <td>287</td>\n",
       "    </tr>\n",
       "  </tbody>\n",
       "</table>\n",
       "</div>"
      ],
      "text/plain": [
       "   country_code  country_name\n",
       "0  289           287         "
      ]
     },
     "execution_count": 35,
     "metadata": {},
     "output_type": "execute_result"
    },
    {
     "name": "stdout",
     "output_type": "stream",
     "text": [
      "time: 2.02 s (started: 2023-04-05 01:34:58 +00:00)\n"
     ]
    }
   ],
   "source": [
    "#total row count\n",
    "print(f'total row counts in country {country_cleaned.count()}', \"\\n\")\n",
    "\n",
    "# count distinct values by column \n",
    "unique = util.unique_val_bycol(country_cleaned)\n",
    "unique.limit(2).toPandas()"
   ]
  },
  {
   "cell_type": "code",
   "execution_count": 36,
   "metadata": {},
   "outputs": [
    {
     "data": {
      "text/html": [
       "<div>\n",
       "<style scoped>\n",
       "    .dataframe tbody tr th:only-of-type {\n",
       "        vertical-align: middle;\n",
       "    }\n",
       "\n",
       "    .dataframe tbody tr th {\n",
       "        vertical-align: top;\n",
       "    }\n",
       "\n",
       "    .dataframe thead th {\n",
       "        text-align: right;\n",
       "    }\n",
       "</style>\n",
       "<table border=\"1\" class=\"dataframe\">\n",
       "  <thead>\n",
       "    <tr style=\"text-align: right;\">\n",
       "      <th></th>\n",
       "      <th>country_code</th>\n",
       "      <th>country_name</th>\n",
       "    </tr>\n",
       "  </thead>\n",
       "  <tbody>\n",
       "    <tr>\n",
       "      <th>0</th>\n",
       "      <td>582</td>\n",
       "      <td>'MEXICO Air Sea, and Not Reported (I-94, no land arrivals)'</td>\n",
       "    </tr>\n",
       "    <tr>\n",
       "      <th>1</th>\n",
       "      <td>236</td>\n",
       "      <td>'AFGHANISTAN'</td>\n",
       "    </tr>\n",
       "    <tr>\n",
       "      <th>2</th>\n",
       "      <td>101</td>\n",
       "      <td>'ALBANIA'</td>\n",
       "    </tr>\n",
       "  </tbody>\n",
       "</table>\n",
       "</div>"
      ],
      "text/plain": [
       "  country_code                                                 country_name\n",
       "0  582          'MEXICO Air Sea, and Not Reported (I-94, no land arrivals)'\n",
       "1  236          'AFGHANISTAN'                                              \n",
       "2  101          'ALBANIA'                                                  "
      ]
     },
     "execution_count": 36,
     "metadata": {},
     "output_type": "execute_result"
    },
    {
     "name": "stdout",
     "output_type": "stream",
     "text": [
      "time: 117 ms (started: 2023-04-05 01:35:00 +00:00)\n"
     ]
    }
   ],
   "source": [
    "country_cleaned.limit(3).toPandas()"
   ]
  },
  {
   "cell_type": "code",
   "execution_count": null,
   "metadata": {},
   "outputs": [],
   "source": []
  },
  {
   "cell_type": "markdown",
   "metadata": {},
   "source": [
    "### Step 3: Define the Data Model"
   ]
  },
  {
   "cell_type": "markdown",
   "metadata": {},
   "source": [
    "3.1- Data Model\n",
    "* Fact table: immigration_fact\n",
    "* Dimension tables: visa_dim, i94_mode_dim, status_dim, status_lookup_dim, date_dim, demog_bystate_dim,  i94_port_dim, country_dim\n",
    "\n",
    "    With the above design, users can analyze immigration patterns based not only on demographics but also on the overall population of the states. This enables users to derive trends and insights from a more comprehensive dataset, providing a more complete picture of the immigration landscape. \n",
    "\n",
    "    In addition to identifying immigration patterns based on visa category and country of residence, this approach can also help understand any seasonal peaks in immigration by visa type. By analyzing the data for seasonal trends and patterns, users can gain a deeper understanding of the drivers of immigration.\n",
    "    This provides additional insights into the factors driving immigration, enabling more targeted and informed decision-making."
   ]
  },
  {
   "cell_type": "markdown",
   "metadata": {},
   "source": [
    "3.2- The following steps outline how to map data pipelines:\n",
    "- Load the relevant datasets\n",
    "- Perform any necessary cleaning and transformations on the data to prepare it for analysis.\n",
    "- Create a series of dimension tables to provide context for the data in the pipeline, including tables for visa category, mode of transportation, immigration status, status lookups, dates, state demographics, port information, and country information.\n",
    "- Create a fact table to store the key metrics and measures from the pipeline, linking it to the relevant dimension tables to provide additional context.\n",
    "- Ensure that the necessary data connections are made between the fact table and the dimension tables to enable effective analysis and reporting."
   ]
  },
  {
   "cell_type": "markdown",
   "metadata": {},
   "source": [
    "### Step 4: Run Pipelines to Model the Data \n",
    "#### 4.1 Create the data model\n",
    "Build the data pipelines to create the data model."
   ]
  },
  {
   "cell_type": "markdown",
   "metadata": {},
   "source": [
    "- Build the pipelines to create the data model"
   ]
  },
  {
   "cell_type": "code",
   "execution_count": 37,
   "metadata": {},
   "outputs": [
    {
     "name": "stdout",
     "output_type": "stream",
     "text": [
      "time: 1.24 ms (started: 2023-04-05 01:35:01 +00:00)\n"
     ]
    }
   ],
   "source": [
    "# Path where the output files are saved \n",
    "output_path = \"data_outputs/\""
   ]
  },
  {
   "cell_type": "markdown",
   "metadata": {},
   "source": [
    "##### 1.1- Create dimension table: - visa_dim : "
   ]
  },
  {
   "cell_type": "code",
   "execution_count": 38,
   "metadata": {},
   "outputs": [
    {
     "name": "stdout",
     "output_type": "stream",
     "text": [
      "Exporting visa_dim to data_outputs/visa_dim\n",
      "Parquet file is now available in: data_outputs/visa_dim\n",
      "time: 55 s (started: 2023-04-05 01:35:01 +00:00)\n"
     ]
    }
   ],
   "source": [
    "# Source - immigration_cleaned\n",
    "visa_dim = create_tables.create_visa_dim(immigration_cleaned, output_path)"
   ]
  },
  {
   "cell_type": "code",
   "execution_count": 39,
   "metadata": {},
   "outputs": [
    {
     "name": "stdout",
     "output_type": "stream",
     "text": [
      "root\n",
      " |-- visa_cat_code: integer (nullable = true)\n",
      " |-- visa_category: string (nullable = true)\n",
      " |-- visa_type: string (nullable = true)\n",
      "\n",
      "time: 210 ms (started: 2023-04-05 01:35:56 +00:00)\n"
     ]
    }
   ],
   "source": [
    "# Reading data from output parquet \n",
    "visa_dim = spark.read.parquet(\"data_outputs/visa_dim\")\n",
    "visa_dim.printSchema()"
   ]
  },
  {
   "cell_type": "code",
   "execution_count": 40,
   "metadata": {},
   "outputs": [
    {
     "data": {
      "text/html": [
       "<div>\n",
       "<style scoped>\n",
       "    .dataframe tbody tr th:only-of-type {\n",
       "        vertical-align: middle;\n",
       "    }\n",
       "\n",
       "    .dataframe tbody tr th {\n",
       "        vertical-align: top;\n",
       "    }\n",
       "\n",
       "    .dataframe thead th {\n",
       "        text-align: right;\n",
       "    }\n",
       "</style>\n",
       "<table border=\"1\" class=\"dataframe\">\n",
       "  <thead>\n",
       "    <tr style=\"text-align: right;\">\n",
       "      <th></th>\n",
       "      <th>visa_cat_code</th>\n",
       "      <th>visa_category</th>\n",
       "      <th>visa_type</th>\n",
       "    </tr>\n",
       "  </thead>\n",
       "  <tbody>\n",
       "    <tr>\n",
       "      <th>0</th>\n",
       "      <td>2</td>\n",
       "      <td>Pleasure</td>\n",
       "      <td>CP</td>\n",
       "    </tr>\n",
       "    <tr>\n",
       "      <th>1</th>\n",
       "      <td>2</td>\n",
       "      <td>Pleasure</td>\n",
       "      <td>SBP</td>\n",
       "    </tr>\n",
       "    <tr>\n",
       "      <th>2</th>\n",
       "      <td>1</td>\n",
       "      <td>Business</td>\n",
       "      <td>GMB</td>\n",
       "    </tr>\n",
       "    <tr>\n",
       "      <th>3</th>\n",
       "      <td>2</td>\n",
       "      <td>Pleasure</td>\n",
       "      <td>GMT</td>\n",
       "    </tr>\n",
       "    <tr>\n",
       "      <th>4</th>\n",
       "      <td>2</td>\n",
       "      <td>Pleasure</td>\n",
       "      <td>CPL</td>\n",
       "    </tr>\n",
       "  </tbody>\n",
       "</table>\n",
       "</div>"
      ],
      "text/plain": [
       "   visa_cat_code visa_category visa_type\n",
       "0  2              Pleasure      CP      \n",
       "1  2              Pleasure      SBP     \n",
       "2  1              Business      GMB     \n",
       "3  2              Pleasure      GMT     \n",
       "4  2              Pleasure      CPL     "
      ]
     },
     "execution_count": 40,
     "metadata": {},
     "output_type": "execute_result"
    },
    {
     "name": "stdout",
     "output_type": "stream",
     "text": [
      "time: 286 ms (started: 2023-04-05 01:35:56 +00:00)\n"
     ]
    }
   ],
   "source": [
    "visa_dim.limit(5).toPandas()"
   ]
  },
  {
   "cell_type": "markdown",
   "metadata": {},
   "source": [
    "##### 1.2- Create dimension table: - i94_mode_dim : "
   ]
  },
  {
   "cell_type": "code",
   "execution_count": 41,
   "metadata": {},
   "outputs": [
    {
     "name": "stdout",
     "output_type": "stream",
     "text": [
      "Exporting i94_mode_dim to data_outputs/i94_mode_dim\n",
      "Parquet file is now available in: data_outputs/i94_mode_dim\n",
      "time: 46 s (started: 2023-04-05 01:35:56 +00:00)\n"
     ]
    }
   ],
   "source": [
    "# Source - immigration_cleaned\n",
    "i94_mode_dim = create_tables.create_i94mode_dim(immigration_cleaned, output_path)"
   ]
  },
  {
   "cell_type": "code",
   "execution_count": 42,
   "metadata": {},
   "outputs": [
    {
     "name": "stdout",
     "output_type": "stream",
     "text": [
      "root\n",
      " |-- i94_mode: integer (nullable = true)\n",
      " |-- transport_mode: string (nullable = true)\n",
      "\n",
      "time: 132 ms (started: 2023-04-05 01:36:42 +00:00)\n"
     ]
    }
   ],
   "source": [
    "# Reading data from output parquet \n",
    "i94_mode_dim = spark.read.parquet(\"data_outputs/i94_mode_dim\")\n",
    "i94_mode_dim.printSchema()"
   ]
  },
  {
   "cell_type": "code",
   "execution_count": 43,
   "metadata": {},
   "outputs": [
    {
     "data": {
      "text/html": [
       "<div>\n",
       "<style scoped>\n",
       "    .dataframe tbody tr th:only-of-type {\n",
       "        vertical-align: middle;\n",
       "    }\n",
       "\n",
       "    .dataframe tbody tr th {\n",
       "        vertical-align: top;\n",
       "    }\n",
       "\n",
       "    .dataframe thead th {\n",
       "        text-align: right;\n",
       "    }\n",
       "</style>\n",
       "<table border=\"1\" class=\"dataframe\">\n",
       "  <thead>\n",
       "    <tr style=\"text-align: right;\">\n",
       "      <th></th>\n",
       "      <th>i94_mode</th>\n",
       "      <th>transport_mode</th>\n",
       "    </tr>\n",
       "  </thead>\n",
       "  <tbody>\n",
       "    <tr>\n",
       "      <th>0</th>\n",
       "      <td>3.0</td>\n",
       "      <td>Land</td>\n",
       "    </tr>\n",
       "    <tr>\n",
       "      <th>1</th>\n",
       "      <td>NaN</td>\n",
       "      <td>None</td>\n",
       "    </tr>\n",
       "    <tr>\n",
       "      <th>2</th>\n",
       "      <td>1.0</td>\n",
       "      <td>Air</td>\n",
       "    </tr>\n",
       "    <tr>\n",
       "      <th>3</th>\n",
       "      <td>2.0</td>\n",
       "      <td>Sea</td>\n",
       "    </tr>\n",
       "    <tr>\n",
       "      <th>4</th>\n",
       "      <td>9.0</td>\n",
       "      <td>Not Reported</td>\n",
       "    </tr>\n",
       "  </tbody>\n",
       "</table>\n",
       "</div>"
      ],
      "text/plain": [
       "   i94_mode transport_mode\n",
       "0  3.0       Land         \n",
       "1 NaN        None         \n",
       "2  1.0       Air          \n",
       "3  2.0       Sea          \n",
       "4  9.0       Not Reported "
      ]
     },
     "execution_count": 43,
     "metadata": {},
     "output_type": "execute_result"
    },
    {
     "name": "stdout",
     "output_type": "stream",
     "text": [
      "time: 1.14 s (started: 2023-04-05 01:36:42 +00:00)\n"
     ]
    }
   ],
   "source": [
    "i94_mode_dim.distinct().toPandas()"
   ]
  },
  {
   "cell_type": "markdown",
   "metadata": {},
   "source": [
    "##### 1.3- Create dimension table: - status_dim"
   ]
  },
  {
   "cell_type": "code",
   "execution_count": 44,
   "metadata": {},
   "outputs": [
    {
     "name": "stdout",
     "output_type": "stream",
     "text": [
      "Exporting status_dim to data_outputs/status_dim\n",
      "Parquet file is now available in: data_outputs/status_dim\n",
      "time: 56.3 s (started: 2023-04-05 01:36:43 +00:00)\n"
     ]
    }
   ],
   "source": [
    "# Source - immigration_cleaned\n",
    "status_dim = create_tables.create_status_dim(immigration_cleaned, output_path)"
   ]
  },
  {
   "cell_type": "code",
   "execution_count": 45,
   "metadata": {},
   "outputs": [
    {
     "data": {
      "text/plain": [
       "99"
      ]
     },
     "execution_count": 45,
     "metadata": {},
     "output_type": "execute_result"
    },
    {
     "name": "stdout",
     "output_type": "stream",
     "text": [
      "time: 50.1 s (started: 2023-04-05 01:37:40 +00:00)\n"
     ]
    }
   ],
   "source": [
    "status_dim.count()"
   ]
  },
  {
   "cell_type": "code",
   "execution_count": 46,
   "metadata": {},
   "outputs": [
    {
     "name": "stdout",
     "output_type": "stream",
     "text": [
      "root\n",
      " |-- status_flag_id: long (nullable = true)\n",
      " |-- arrival_flag: string (nullable = true)\n",
      " |-- departure_flag: string (nullable = true)\n",
      " |-- match_flag: string (nullable = true)\n",
      "\n",
      "time: 130 ms (started: 2023-04-05 01:38:30 +00:00)\n"
     ]
    }
   ],
   "source": [
    "# Reading data from output parquet \n",
    "status_dim = spark.read.parquet(\"data_outputs/status_dim\")\n",
    "status_dim.printSchema()"
   ]
  },
  {
   "cell_type": "markdown",
   "metadata": {},
   "source": [
    "##### 1.3.a- , Create dimension table: - status_lookup_dim : "
   ]
  },
  {
   "cell_type": "code",
   "execution_count": 47,
   "metadata": {},
   "outputs": [
    {
     "name": "stdout",
     "output_type": "stream",
     "text": [
      "time: 103 ms (started: 2023-04-05 01:38:30 +00:00)\n"
     ]
    }
   ],
   "source": [
    "schema = T.StructType([T.StructField(\"status_flag\", T.StringType(), True)\\\n",
    "                      ])\n",
    "\n",
    "# Based on the values provided in data dictionary\n",
    "data = [(\"G\",), (\"O\",), (\"R\",), (\"K\",), (\"N\",), (\"T\",), (\"Z\",), (None,)]\n",
    "                          \n",
    "status_lookup = spark.createDataFrame(data = data, schema = schema)"
   ]
  },
  {
   "cell_type": "code",
   "execution_count": 48,
   "metadata": {},
   "outputs": [
    {
     "name": "stdout",
     "output_type": "stream",
     "text": [
      "Exporting status_lookup_dim to data_outputs/status_lookup_dim\n",
      "Parquet file is now available in: data_outputs/status_lookup_dim\n",
      "time: 3.37 s (started: 2023-04-05 01:38:30 +00:00)\n"
     ]
    }
   ],
   "source": [
    "status_lookup_dim = create_tables.create_status_lookup_dim(status_lookup,output_path)"
   ]
  },
  {
   "cell_type": "code",
   "execution_count": 49,
   "metadata": {},
   "outputs": [
    {
     "name": "stdout",
     "output_type": "stream",
     "text": [
      "root\n",
      " |-- status_flag: string (nullable = true)\n",
      " |-- definition: string (nullable = true)\n",
      "\n",
      "time: 88.1 ms (started: 2023-04-05 01:38:33 +00:00)\n"
     ]
    }
   ],
   "source": [
    "# Reading data from output parquet \n",
    "status_lookup_dim = spark.read.parquet(\"data_outputs/status_lookup_dim\")\n",
    "status_lookup_dim.printSchema()"
   ]
  },
  {
   "cell_type": "code",
   "execution_count": 50,
   "metadata": {},
   "outputs": [
    {
     "name": "stdout",
     "output_type": "stream",
     "text": [
      "+-----------+--------------------------+\n",
      "|status_flag|definition                |\n",
      "+-----------+--------------------------+\n",
      "|Z          |Adjusted to perm residence|\n",
      "|K          |Lost I 94 or is deceased  |\n",
      "|G          |Admitted into US          |\n",
      "|O          |Paroled into US           |\n",
      "|N          |Apprehended               |\n",
      "|T          |Overstayed                |\n",
      "|R          |Departed                  |\n",
      "|null       |null                      |\n",
      "+-----------+--------------------------+\n",
      "\n",
      "time: 168 ms (started: 2023-04-05 01:38:33 +00:00)\n"
     ]
    }
   ],
   "source": [
    "status_lookup_dim.limit(10).show(truncate = False)"
   ]
  },
  {
   "cell_type": "markdown",
   "metadata": {},
   "source": [
    "##### 1.4- Create date_dim table: - date_dim"
   ]
  },
  {
   "cell_type": "code",
   "execution_count": 51,
   "metadata": {},
   "outputs": [
    {
     "name": "stdout",
     "output_type": "stream",
     "text": [
      "Exporting date_dim to data_outputs/date_dim\n",
      "Parquet file is now available in: data_outputs/date_dim\n",
      "time: 1min 5s (started: 2023-04-05 01:38:34 +00:00)\n"
     ]
    }
   ],
   "source": [
    "# Source - immigration_cleaned\n",
    "date_dim = create_tables.create_date_dim(immigration_cleaned, output_path)"
   ]
  },
  {
   "cell_type": "code",
   "execution_count": 52,
   "metadata": {},
   "outputs": [
    {
     "name": "stdout",
     "output_type": "stream",
     "text": [
      "root\n",
      " |-- dt_arrival: date (nullable = true)\n",
      " |-- arr_year: integer (nullable = true)\n",
      " |-- arr_month: integer (nullable = true)\n",
      " |-- arr_weekofyear: integer (nullable = true)\n",
      " |-- arr_dayofweek: integer (nullable = true)\n",
      " |-- arr_dayofmonth: integer (nullable = true)\n",
      "\n",
      "time: 121 ms (started: 2023-04-05 01:39:40 +00:00)\n"
     ]
    }
   ],
   "source": [
    "# Reading data from output parquet \n",
    "date_dim = spark.read.parquet(\"data_outputs/date_dim\")\n",
    "date_dim.printSchema()"
   ]
  },
  {
   "cell_type": "code",
   "execution_count": 53,
   "metadata": {},
   "outputs": [
    {
     "data": {
      "text/html": [
       "<div>\n",
       "<style scoped>\n",
       "    .dataframe tbody tr th:only-of-type {\n",
       "        vertical-align: middle;\n",
       "    }\n",
       "\n",
       "    .dataframe tbody tr th {\n",
       "        vertical-align: top;\n",
       "    }\n",
       "\n",
       "    .dataframe thead th {\n",
       "        text-align: right;\n",
       "    }\n",
       "</style>\n",
       "<table border=\"1\" class=\"dataframe\">\n",
       "  <thead>\n",
       "    <tr style=\"text-align: right;\">\n",
       "      <th></th>\n",
       "      <th>dt_arrival</th>\n",
       "      <th>arr_year</th>\n",
       "      <th>arr_month</th>\n",
       "      <th>arr_weekofyear</th>\n",
       "      <th>arr_dayofweek</th>\n",
       "      <th>arr_dayofmonth</th>\n",
       "    </tr>\n",
       "  </thead>\n",
       "  <tbody>\n",
       "    <tr>\n",
       "      <th>0</th>\n",
       "      <td>2016-04-16</td>\n",
       "      <td>2016</td>\n",
       "      <td>4</td>\n",
       "      <td>15</td>\n",
       "      <td>7</td>\n",
       "      <td>16</td>\n",
       "    </tr>\n",
       "    <tr>\n",
       "      <th>1</th>\n",
       "      <td>2016-04-18</td>\n",
       "      <td>2016</td>\n",
       "      <td>4</td>\n",
       "      <td>16</td>\n",
       "      <td>2</td>\n",
       "      <td>18</td>\n",
       "    </tr>\n",
       "    <tr>\n",
       "      <th>2</th>\n",
       "      <td>2016-04-09</td>\n",
       "      <td>2016</td>\n",
       "      <td>4</td>\n",
       "      <td>14</td>\n",
       "      <td>7</td>\n",
       "      <td>9</td>\n",
       "    </tr>\n",
       "    <tr>\n",
       "      <th>3</th>\n",
       "      <td>2016-04-28</td>\n",
       "      <td>2016</td>\n",
       "      <td>4</td>\n",
       "      <td>17</td>\n",
       "      <td>5</td>\n",
       "      <td>28</td>\n",
       "    </tr>\n",
       "    <tr>\n",
       "      <th>4</th>\n",
       "      <td>2016-04-15</td>\n",
       "      <td>2016</td>\n",
       "      <td>4</td>\n",
       "      <td>15</td>\n",
       "      <td>6</td>\n",
       "      <td>15</td>\n",
       "    </tr>\n",
       "  </tbody>\n",
       "</table>\n",
       "</div>"
      ],
      "text/plain": [
       "   dt_arrival  arr_year  arr_month  arr_weekofyear  arr_dayofweek  \\\n",
       "0  2016-04-16  2016      4          15              7               \n",
       "1  2016-04-18  2016      4          16              2               \n",
       "2  2016-04-09  2016      4          14              7               \n",
       "3  2016-04-28  2016      4          17              5               \n",
       "4  2016-04-15  2016      4          15              6               \n",
       "\n",
       "   arr_dayofmonth  \n",
       "0  16              \n",
       "1  18              \n",
       "2  9               \n",
       "3  28              \n",
       "4  15              "
      ]
     },
     "execution_count": 53,
     "metadata": {},
     "output_type": "execute_result"
    },
    {
     "name": "stdout",
     "output_type": "stream",
     "text": [
      "time: 307 ms (started: 2023-04-05 01:39:40 +00:00)\n"
     ]
    }
   ],
   "source": [
    "date_dim.toPandas().head(5)"
   ]
  },
  {
   "cell_type": "markdown",
   "metadata": {},
   "source": [
    "##### 2- Create dimension table: - demog_bystate_dim: "
   ]
  },
  {
   "cell_type": "code",
   "execution_count": 54,
   "metadata": {},
   "outputs": [
    {
     "name": "stdout",
     "output_type": "stream",
     "text": [
      "Exporting demog_bystate_dim to data_outputs/demog_bystate_dim\n",
      "Parquet file is now available in: data_outputs/demog_bystate_dim\n",
      "time: 12.9 s (started: 2023-04-05 01:39:40 +00:00)\n"
     ]
    }
   ],
   "source": [
    "# Aggegating data by state & creating a spark df and exporting to a parquet \n",
    "demog_bystate_dim = create_tables.create_demog_dim(demographics_cleaned, output_path)"
   ]
  },
  {
   "cell_type": "code",
   "execution_count": 55,
   "metadata": {},
   "outputs": [
    {
     "name": "stdout",
     "output_type": "stream",
     "text": [
      "+----------+----------+--------+----------+---------+------------+--------------------+---------+------------+---------+----------+------------------+----------+\n",
      "|state_code|     state|male_pop|female_pop|total_pop|foreign_born|african_american_pop|asian_pop|hispanic_pop|white_pop|native_pop|avg_household_size|median_age|\n",
      "+----------+----------+--------+----------+---------+------------+--------------------+---------+------------+---------+----------+------------------+----------+\n",
      "|        CA|California|12278281|  12544179| 24822460|     7448257|             2047009|  4543730|     9856464| 14905129|    401386|               3.1|     36.18|\n",
      "+----------+----------+--------+----------+---------+------------+--------------------+---------+------------+---------+----------+------------------+----------+\n",
      "\n",
      "time: 9.79 s (started: 2023-04-05 01:39:53 +00:00)\n"
     ]
    }
   ],
   "source": [
    "#Filter by state to validate the df is at a state grain\n",
    "demog_bystate_dim.filter(F.col('state_code') == \"CA\").show()"
   ]
  },
  {
   "cell_type": "code",
   "execution_count": 56,
   "metadata": {},
   "outputs": [
    {
     "name": "stdout",
     "output_type": "stream",
     "text": [
      "root\n",
      " |-- state_code: string (nullable = true)\n",
      " |-- state: string (nullable = true)\n",
      " |-- male_pop: long (nullable = true)\n",
      " |-- female_pop: long (nullable = true)\n",
      " |-- total_pop: long (nullable = true)\n",
      " |-- foreign_born: long (nullable = true)\n",
      " |-- african_american_pop: long (nullable = true)\n",
      " |-- asian_pop: long (nullable = true)\n",
      " |-- hispanic_pop: long (nullable = true)\n",
      " |-- white_pop: long (nullable = true)\n",
      " |-- native_pop: long (nullable = true)\n",
      " |-- avg_household_size: double (nullable = true)\n",
      " |-- median_age: double (nullable = true)\n",
      "\n",
      "time: 124 ms (started: 2023-04-05 01:40:03 +00:00)\n"
     ]
    }
   ],
   "source": [
    "# Reading data from output parquet \n",
    "demog_bystate_dim = spark.read.parquet(\"data_outputs/demog_bystate_dim\")\n",
    "demog_bystate_dim.printSchema()"
   ]
  },
  {
   "cell_type": "code",
   "execution_count": 57,
   "metadata": {},
   "outputs": [
    {
     "data": {
      "text/html": [
       "<div>\n",
       "<style scoped>\n",
       "    .dataframe tbody tr th:only-of-type {\n",
       "        vertical-align: middle;\n",
       "    }\n",
       "\n",
       "    .dataframe tbody tr th {\n",
       "        vertical-align: top;\n",
       "    }\n",
       "\n",
       "    .dataframe thead th {\n",
       "        text-align: right;\n",
       "    }\n",
       "</style>\n",
       "<table border=\"1\" class=\"dataframe\">\n",
       "  <thead>\n",
       "    <tr style=\"text-align: right;\">\n",
       "      <th></th>\n",
       "      <th>state_code</th>\n",
       "      <th>state</th>\n",
       "      <th>male_pop</th>\n",
       "      <th>female_pop</th>\n",
       "      <th>total_pop</th>\n",
       "      <th>foreign_born</th>\n",
       "      <th>african_american_pop</th>\n",
       "      <th>asian_pop</th>\n",
       "      <th>hispanic_pop</th>\n",
       "      <th>white_pop</th>\n",
       "      <th>native_pop</th>\n",
       "      <th>avg_household_size</th>\n",
       "      <th>median_age</th>\n",
       "    </tr>\n",
       "  </thead>\n",
       "  <tbody>\n",
       "    <tr>\n",
       "      <th>0</th>\n",
       "      <td>LA</td>\n",
       "      <td>Louisiana</td>\n",
       "      <td>626998</td>\n",
       "      <td>673597</td>\n",
       "      <td>1300595</td>\n",
       "      <td>83419.0</td>\n",
       "      <td>602377</td>\n",
       "      <td>38739</td>\n",
       "      <td>87133</td>\n",
       "      <td>654578</td>\n",
       "      <td>8263</td>\n",
       "      <td>2.47</td>\n",
       "      <td>34.63</td>\n",
       "    </tr>\n",
       "    <tr>\n",
       "      <th>1</th>\n",
       "      <td>TN</td>\n",
       "      <td>Tennessee</td>\n",
       "      <td>1031836</td>\n",
       "      <td>1120724</td>\n",
       "      <td>2152560</td>\n",
       "      <td>181405.0</td>\n",
       "      <td>810758</td>\n",
       "      <td>73024</td>\n",
       "      <td>167962</td>\n",
       "      <td>1253142</td>\n",
       "      <td>17638</td>\n",
       "      <td>2.47</td>\n",
       "      <td>34.40</td>\n",
       "    </tr>\n",
       "    <tr>\n",
       "      <th>2</th>\n",
       "      <td>AR</td>\n",
       "      <td>Arkansas</td>\n",
       "      <td>286479</td>\n",
       "      <td>303400</td>\n",
       "      <td>589879</td>\n",
       "      <td>62108.0</td>\n",
       "      <td>149608</td>\n",
       "      <td>22062</td>\n",
       "      <td>77813</td>\n",
       "      <td>384733</td>\n",
       "      <td>9381</td>\n",
       "      <td>2.53</td>\n",
       "      <td>32.77</td>\n",
       "    </tr>\n",
       "    <tr>\n",
       "      <th>3</th>\n",
       "      <td>KS</td>\n",
       "      <td>Kansas</td>\n",
       "      <td>564145</td>\n",
       "      <td>584129</td>\n",
       "      <td>1148274</td>\n",
       "      <td>118645.0</td>\n",
       "      <td>141075</td>\n",
       "      <td>68689</td>\n",
       "      <td>165678</td>\n",
       "      <td>927169</td>\n",
       "      <td>24204</td>\n",
       "      <td>2.59</td>\n",
       "      <td>34.83</td>\n",
       "    </tr>\n",
       "    <tr>\n",
       "      <th>4</th>\n",
       "      <td>AZ</td>\n",
       "      <td>Arizona</td>\n",
       "      <td>2227455</td>\n",
       "      <td>2272087</td>\n",
       "      <td>4499542</td>\n",
       "      <td>682313.0</td>\n",
       "      <td>296222</td>\n",
       "      <td>229183</td>\n",
       "      <td>1508157</td>\n",
       "      <td>3591611</td>\n",
       "      <td>129708</td>\n",
       "      <td>2.77</td>\n",
       "      <td>35.04</td>\n",
       "    </tr>\n",
       "  </tbody>\n",
       "</table>\n",
       "</div>"
      ],
      "text/plain": [
       "  state_code      state  male_pop  female_pop  total_pop  foreign_born  \\\n",
       "0  LA         Louisiana  626998    673597      1300595    83419.0        \n",
       "1  TN         Tennessee  1031836   1120724     2152560    181405.0       \n",
       "2  AR         Arkansas   286479    303400      589879     62108.0        \n",
       "3  KS         Kansas     564145    584129      1148274    118645.0       \n",
       "4  AZ         Arizona    2227455   2272087     4499542    682313.0       \n",
       "\n",
       "   african_american_pop  asian_pop  hispanic_pop  white_pop  native_pop  \\\n",
       "0  602377                38739      87133         654578     8263         \n",
       "1  810758                73024      167962        1253142    17638        \n",
       "2  149608                22062      77813         384733     9381         \n",
       "3  141075                68689      165678        927169     24204        \n",
       "4  296222                229183     1508157       3591611    129708       \n",
       "\n",
       "   avg_household_size  median_age  \n",
       "0  2.47                34.63       \n",
       "1  2.47                34.40       \n",
       "2  2.53                32.77       \n",
       "3  2.59                34.83       \n",
       "4  2.77                35.04       "
      ]
     },
     "execution_count": 57,
     "metadata": {},
     "output_type": "execute_result"
    },
    {
     "name": "stdout",
     "output_type": "stream",
     "text": [
      "time: 525 ms (started: 2023-04-05 01:40:03 +00:00)\n"
     ]
    }
   ],
   "source": [
    "demog_bystate_dim.toPandas().head(5)"
   ]
  },
  {
   "cell_type": "markdown",
   "metadata": {},
   "source": [
    "##### 3- Create dimension table:i94_port_dim"
   ]
  },
  {
   "cell_type": "code",
   "execution_count": 58,
   "metadata": {},
   "outputs": [
    {
     "name": "stdout",
     "output_type": "stream",
     "text": [
      "Exporting i94_port_dim to data_outputs/i94_port_dim\n",
      "Parquet file is now available in: data_outputs/i94_port_dim\n",
      "time: 5.52 s (started: 2023-04-05 01:40:03 +00:00)\n"
     ]
    }
   ],
   "source": [
    "i94_port_dim = create_tables.create_i94port_dim(i94port_cleaned,output_path)"
   ]
  },
  {
   "cell_type": "code",
   "execution_count": 59,
   "metadata": {},
   "outputs": [
    {
     "name": "stdout",
     "output_type": "stream",
     "text": [
      "root\n",
      " |-- port_code: string (nullable = true)\n",
      " |-- port_city: string (nullable = true)\n",
      " |-- port_state: string (nullable = true)\n",
      "\n",
      "time: 133 ms (started: 2023-04-05 01:40:09 +00:00)\n"
     ]
    }
   ],
   "source": [
    "#Reading data from output parquet \n",
    "i94_port_dim = spark.read.parquet(\"data_outputs/i94_port_dim\")\n",
    "i94_port_dim.printSchema()"
   ]
  },
  {
   "cell_type": "markdown",
   "metadata": {},
   "source": [
    "##### 4- Create dimension table: country_dim "
   ]
  },
  {
   "cell_type": "code",
   "execution_count": 60,
   "metadata": {},
   "outputs": [
    {
     "data": {
      "text/html": [
       "<div>\n",
       "<style scoped>\n",
       "    .dataframe tbody tr th:only-of-type {\n",
       "        vertical-align: middle;\n",
       "    }\n",
       "\n",
       "    .dataframe tbody tr th {\n",
       "        vertical-align: top;\n",
       "    }\n",
       "\n",
       "    .dataframe thead th {\n",
       "        text-align: right;\n",
       "    }\n",
       "</style>\n",
       "<table border=\"1\" class=\"dataframe\">\n",
       "  <thead>\n",
       "    <tr style=\"text-align: right;\">\n",
       "      <th></th>\n",
       "      <th>port_code</th>\n",
       "      <th>port_city</th>\n",
       "      <th>port_state</th>\n",
       "    </tr>\n",
       "  </thead>\n",
       "  <tbody>\n",
       "    <tr>\n",
       "      <th>0</th>\n",
       "      <td>AMT</td>\n",
       "      <td>No PORT Code (AMT)</td>\n",
       "      <td>None</td>\n",
       "    </tr>\n",
       "    <tr>\n",
       "      <th>1</th>\n",
       "      <td>EUR</td>\n",
       "      <td>EUREKA</td>\n",
       "      <td>MT (BPS)</td>\n",
       "    </tr>\n",
       "    <tr>\n",
       "      <th>2</th>\n",
       "      <td>RNO</td>\n",
       "      <td>CANNON INTL - RENO/TAHOE</td>\n",
       "      <td>NV</td>\n",
       "    </tr>\n",
       "  </tbody>\n",
       "</table>\n",
       "</div>"
      ],
      "text/plain": [
       "  port_code                 port_city port_state\n",
       "0  AMT       No PORT Code (AMT)        None     \n",
       "1  EUR       EUREKA                    MT (BPS) \n",
       "2  RNO       CANNON INTL - RENO/TAHOE  NV       "
      ]
     },
     "execution_count": 60,
     "metadata": {},
     "output_type": "execute_result"
    },
    {
     "name": "stdout",
     "output_type": "stream",
     "text": [
      "time: 870 ms (started: 2023-04-05 01:40:09 +00:00)\n"
     ]
    }
   ],
   "source": [
    "i94_port_dim.toPandas().head(3)"
   ]
  },
  {
   "cell_type": "code",
   "execution_count": 61,
   "metadata": {},
   "outputs": [
    {
     "name": "stdout",
     "output_type": "stream",
     "text": [
      "Exporting country_dim to data_outputs/country_dim\n",
      "Parquet file is now available in: data_outputs/country_dim\n",
      "time: 5.46 s (started: 2023-04-05 01:40:10 +00:00)\n"
     ]
    }
   ],
   "source": [
    "country_dim = create_tables.create_country_dim(country_cleaned, output_path)"
   ]
  },
  {
   "cell_type": "code",
   "execution_count": 62,
   "metadata": {},
   "outputs": [
    {
     "name": "stdout",
     "output_type": "stream",
     "text": [
      "root\n",
      " |-- country_code: integer (nullable = true)\n",
      " |-- country_name: string (nullable = true)\n",
      "\n",
      "time: 122 ms (started: 2023-04-05 01:40:15 +00:00)\n"
     ]
    }
   ],
   "source": [
    "# Reading data from output parquet \n",
    "country_dim = spark.read.parquet(\"data_outputs/country_dim\")\n",
    "country_dim.printSchema()"
   ]
  },
  {
   "cell_type": "code",
   "execution_count": 63,
   "metadata": {},
   "outputs": [
    {
     "data": {
      "text/html": [
       "<div>\n",
       "<style scoped>\n",
       "    .dataframe tbody tr th:only-of-type {\n",
       "        vertical-align: middle;\n",
       "    }\n",
       "\n",
       "    .dataframe tbody tr th {\n",
       "        vertical-align: top;\n",
       "    }\n",
       "\n",
       "    .dataframe thead th {\n",
       "        text-align: right;\n",
       "    }\n",
       "</style>\n",
       "<table border=\"1\" class=\"dataframe\">\n",
       "  <thead>\n",
       "    <tr style=\"text-align: right;\">\n",
       "      <th></th>\n",
       "      <th>country_code</th>\n",
       "      <th>country_name</th>\n",
       "    </tr>\n",
       "  </thead>\n",
       "  <tbody>\n",
       "    <tr>\n",
       "      <th>0</th>\n",
       "      <td>719</td>\n",
       "      <td>'INVALID: BOUVET ISLAND (ANTARCTICA/NORWAY TERR.)'</td>\n",
       "    </tr>\n",
       "    <tr>\n",
       "      <th>1</th>\n",
       "      <td>739</td>\n",
       "      <td>'INVALID: DRONNING MAUD LAND (ANTARCTICA-NORWAY)'</td>\n",
       "    </tr>\n",
       "    <tr>\n",
       "      <th>2</th>\n",
       "      <td>311</td>\n",
       "      <td>'Collapsed Tanzania (should not show)'</td>\n",
       "    </tr>\n",
       "    <tr>\n",
       "      <th>3</th>\n",
       "      <td>471</td>\n",
       "      <td>'INVALID: MARIANA ISLANDS, NORTHERN'</td>\n",
       "    </tr>\n",
       "    <tr>\n",
       "      <th>4</th>\n",
       "      <td>720</td>\n",
       "      <td>'INVALID: CANTON AND ENDERBURY ISLS'</td>\n",
       "    </tr>\n",
       "  </tbody>\n",
       "</table>\n",
       "</div>"
      ],
      "text/plain": [
       "   country_code                                        country_name\n",
       "0  719           'INVALID: BOUVET ISLAND (ANTARCTICA/NORWAY TERR.)'\n",
       "1  739           'INVALID: DRONNING MAUD LAND (ANTARCTICA-NORWAY)' \n",
       "2  311           'Collapsed Tanzania (should not show)'            \n",
       "3  471           'INVALID: MARIANA ISLANDS, NORTHERN'              \n",
       "4  720           'INVALID: CANTON AND ENDERBURY ISLS'              "
      ]
     },
     "execution_count": 63,
     "metadata": {},
     "output_type": "execute_result"
    },
    {
     "name": "stdout",
     "output_type": "stream",
     "text": [
      "time: 98.7 ms (started: 2023-04-05 01:40:16 +00:00)\n"
     ]
    }
   ],
   "source": [
    "country_dim.limit(5).toPandas()"
   ]
  },
  {
   "cell_type": "code",
   "execution_count": 64,
   "metadata": {},
   "outputs": [
    {
     "name": "stdout",
     "output_type": "stream",
     "text": [
      "root\n",
      " |-- count: double (nullable = true)\n",
      " |-- occup: string (nullable = true)\n",
      " |-- insnum: string (nullable = true)\n",
      " |-- gender: string (nullable = true)\n",
      " |-- airline: string (nullable = true)\n",
      " |-- dt_arrival: date (nullable = true)\n",
      " |-- dt_departure: date (nullable = true)\n",
      " |-- dt_add_tofile: date (nullable = true)\n",
      " |-- dt_stay_until: date (nullable = true)\n",
      " |-- i94port_code: string (nullable = true)\n",
      " |-- arrival_state_code: string (nullable = true)\n",
      " |-- arrival_flag: string (nullable = true)\n",
      " |-- departure_flag: string (nullable = true)\n",
      " |-- update_flag: string (nullable = true)\n",
      " |-- match_flag: string (nullable = true)\n",
      " |-- flight_no: string (nullable = true)\n",
      " |-- visa_type: string (nullable = true)\n",
      " |-- cicid: integer (nullable = true)\n",
      " |-- entry_year: integer (nullable = true)\n",
      " |-- entry_month: integer (nullable = true)\n",
      " |-- country_of_birth: integer (nullable = true)\n",
      " |-- country_of_residence: integer (nullable = true)\n",
      " |-- i94_mode: integer (nullable = true)\n",
      " |-- age: integer (nullable = true)\n",
      " |-- visa_cat_code: integer (nullable = true)\n",
      " |-- visa_issued_state: integer (nullable = true)\n",
      " |-- birth_year: integer (nullable = true)\n",
      " |-- admission_num: decimal(15,0) (nullable = true)\n",
      "\n",
      "time: 4.62 ms (started: 2023-04-05 01:40:16 +00:00)\n"
     ]
    }
   ],
   "source": [
    "immigration_cleaned.printSchema()"
   ]
  },
  {
   "cell_type": "code",
   "execution_count": 65,
   "metadata": {},
   "outputs": [
    {
     "data": {
      "text/html": [
       "<div>\n",
       "<style scoped>\n",
       "    .dataframe tbody tr th:only-of-type {\n",
       "        vertical-align: middle;\n",
       "    }\n",
       "\n",
       "    .dataframe tbody tr th {\n",
       "        vertical-align: top;\n",
       "    }\n",
       "\n",
       "    .dataframe thead th {\n",
       "        text-align: right;\n",
       "    }\n",
       "</style>\n",
       "<table border=\"1\" class=\"dataframe\">\n",
       "  <thead>\n",
       "    <tr style=\"text-align: right;\">\n",
       "      <th></th>\n",
       "      <th>count</th>\n",
       "      <th>occup</th>\n",
       "      <th>insnum</th>\n",
       "      <th>gender</th>\n",
       "      <th>airline</th>\n",
       "      <th>dt_arrival</th>\n",
       "      <th>dt_departure</th>\n",
       "      <th>dt_add_tofile</th>\n",
       "      <th>dt_stay_until</th>\n",
       "      <th>i94port_code</th>\n",
       "      <th>arrival_state_code</th>\n",
       "      <th>arrival_flag</th>\n",
       "      <th>departure_flag</th>\n",
       "      <th>update_flag</th>\n",
       "      <th>match_flag</th>\n",
       "      <th>flight_no</th>\n",
       "      <th>visa_type</th>\n",
       "      <th>cicid</th>\n",
       "      <th>entry_year</th>\n",
       "      <th>entry_month</th>\n",
       "      <th>country_of_birth</th>\n",
       "      <th>country_of_residence</th>\n",
       "      <th>i94_mode</th>\n",
       "      <th>age</th>\n",
       "      <th>visa_cat_code</th>\n",
       "      <th>visa_issued_state</th>\n",
       "      <th>birth_year</th>\n",
       "      <th>admission_num</th>\n",
       "    </tr>\n",
       "  </thead>\n",
       "  <tbody>\n",
       "    <tr>\n",
       "      <th>0</th>\n",
       "      <td>1.0</td>\n",
       "      <td>None</td>\n",
       "      <td>None</td>\n",
       "      <td>F</td>\n",
       "      <td>DL</td>\n",
       "      <td>2016-04-01</td>\n",
       "      <td>2016-05-09</td>\n",
       "      <td>2016-04-01</td>\n",
       "      <td>None</td>\n",
       "      <td>DET</td>\n",
       "      <td>MI</td>\n",
       "      <td>U</td>\n",
       "      <td>O</td>\n",
       "      <td>None</td>\n",
       "      <td>M</td>\n",
       "      <td>158</td>\n",
       "      <td>F2</td>\n",
       "      <td>74750</td>\n",
       "      <td>2016</td>\n",
       "      <td>4</td>\n",
       "      <td>254</td>\n",
       "      <td>276</td>\n",
       "      <td>1</td>\n",
       "      <td>35</td>\n",
       "      <td>3</td>\n",
       "      <td>None</td>\n",
       "      <td>1981</td>\n",
       "      <td>209395185</td>\n",
       "    </tr>\n",
       "    <tr>\n",
       "      <th>1</th>\n",
       "      <td>1.0</td>\n",
       "      <td>None</td>\n",
       "      <td>None</td>\n",
       "      <td>M</td>\n",
       "      <td>None</td>\n",
       "      <td>2016-04-13</td>\n",
       "      <td>2016-04-24</td>\n",
       "      <td>2016-04-13</td>\n",
       "      <td>2018-01-08</td>\n",
       "      <td>OTM</td>\n",
       "      <td>None</td>\n",
       "      <td>Z</td>\n",
       "      <td>O</td>\n",
       "      <td>None</td>\n",
       "      <td>M</td>\n",
       "      <td>415</td>\n",
       "      <td>E2</td>\n",
       "      <td>2322334</td>\n",
       "      <td>2016</td>\n",
       "      <td>4</td>\n",
       "      <td>129</td>\n",
       "      <td>129</td>\n",
       "      <td>3</td>\n",
       "      <td>51</td>\n",
       "      <td>1</td>\n",
       "      <td>None</td>\n",
       "      <td>1965</td>\n",
       "      <td>324673385</td>\n",
       "    </tr>\n",
       "    <tr>\n",
       "      <th>2</th>\n",
       "      <td>1.0</td>\n",
       "      <td>None</td>\n",
       "      <td>None</td>\n",
       "      <td>M</td>\n",
       "      <td>85J</td>\n",
       "      <td>2016-04-05</td>\n",
       "      <td>2016-04-06</td>\n",
       "      <td>2016-04-05</td>\n",
       "      <td>2016-07-08</td>\n",
       "      <td>LAR</td>\n",
       "      <td>AL</td>\n",
       "      <td>H</td>\n",
       "      <td>R</td>\n",
       "      <td>None</td>\n",
       "      <td>M</td>\n",
       "      <td>0687C</td>\n",
       "      <td>B1</td>\n",
       "      <td>935651</td>\n",
       "      <td>2016</td>\n",
       "      <td>4</td>\n",
       "      <td>582</td>\n",
       "      <td>582</td>\n",
       "      <td>1</td>\n",
       "      <td>34</td>\n",
       "      <td>1</td>\n",
       "      <td>None</td>\n",
       "      <td>1982</td>\n",
       "      <td>324770585</td>\n",
       "    </tr>\n",
       "    <tr>\n",
       "      <th>3</th>\n",
       "      <td>1.0</td>\n",
       "      <td>None</td>\n",
       "      <td>None</td>\n",
       "      <td>F</td>\n",
       "      <td>B6</td>\n",
       "      <td>2016-04-29</td>\n",
       "      <td>2016-05-22</td>\n",
       "      <td>2016-04-29</td>\n",
       "      <td>None</td>\n",
       "      <td>NAS</td>\n",
       "      <td>MA</td>\n",
       "      <td>H</td>\n",
       "      <td>N</td>\n",
       "      <td>None</td>\n",
       "      <td>M</td>\n",
       "      <td>00910</td>\n",
       "      <td>F1</td>\n",
       "      <td>5442902</td>\n",
       "      <td>2016</td>\n",
       "      <td>4</td>\n",
       "      <td>129</td>\n",
       "      <td>129</td>\n",
       "      <td>1</td>\n",
       "      <td>23</td>\n",
       "      <td>3</td>\n",
       "      <td>None</td>\n",
       "      <td>1993</td>\n",
       "      <td>334434085</td>\n",
       "    </tr>\n",
       "    <tr>\n",
       "      <th>4</th>\n",
       "      <td>1.0</td>\n",
       "      <td>None</td>\n",
       "      <td>3669</td>\n",
       "      <td>M</td>\n",
       "      <td>UA</td>\n",
       "      <td>2016-04-10</td>\n",
       "      <td>None</td>\n",
       "      <td>2016-06-08</td>\n",
       "      <td>2016-05-24</td>\n",
       "      <td>AGA</td>\n",
       "      <td>GU</td>\n",
       "      <td>A</td>\n",
       "      <td>None</td>\n",
       "      <td>None</td>\n",
       "      <td>None</td>\n",
       "      <td>00136</td>\n",
       "      <td>GMT</td>\n",
       "      <td>5945017</td>\n",
       "      <td>2016</td>\n",
       "      <td>4</td>\n",
       "      <td>252</td>\n",
       "      <td>209</td>\n",
       "      <td>1</td>\n",
       "      <td>69</td>\n",
       "      <td>2</td>\n",
       "      <td>None</td>\n",
       "      <td>1947</td>\n",
       "      <td>543561533</td>\n",
       "    </tr>\n",
       "  </tbody>\n",
       "</table>\n",
       "</div>"
      ],
      "text/plain": [
       "   count occup insnum gender airline  dt_arrival dt_departure dt_add_tofile  \\\n",
       "0  1.0    None  None   F      DL      2016-04-01  2016-05-09   2016-04-01     \n",
       "1  1.0    None  None   M      None    2016-04-13  2016-04-24   2016-04-13     \n",
       "2  1.0    None  None   M      85J     2016-04-05  2016-04-06   2016-04-05     \n",
       "3  1.0    None  None   F      B6      2016-04-29  2016-05-22   2016-04-29     \n",
       "4  1.0    None  3669   M      UA      2016-04-10  None         2016-06-08     \n",
       "\n",
       "  dt_stay_until i94port_code arrival_state_code arrival_flag departure_flag  \\\n",
       "0  None          DET          MI                 U            O               \n",
       "1  2018-01-08    OTM          None               Z            O               \n",
       "2  2016-07-08    LAR          AL                 H            R               \n",
       "3  None          NAS          MA                 H            N               \n",
       "4  2016-05-24    AGA          GU                 A            None            \n",
       "\n",
       "  update_flag match_flag flight_no visa_type    cicid  entry_year  \\\n",
       "0  None        M          158       F2        74750    2016         \n",
       "1  None        M          415       E2        2322334  2016         \n",
       "2  None        M          0687C     B1        935651   2016         \n",
       "3  None        M          00910     F1        5442902  2016         \n",
       "4  None        None       00136     GMT       5945017  2016         \n",
       "\n",
       "   entry_month  country_of_birth  country_of_residence  i94_mode  age  \\\n",
       "0  4            254               276                   1         35    \n",
       "1  4            129               129                   3         51    \n",
       "2  4            582               582                   1         34    \n",
       "3  4            129               129                   1         23    \n",
       "4  4            252               209                   1         69    \n",
       "\n",
       "   visa_cat_code visa_issued_state  birth_year admission_num  \n",
       "0  3              None              1981        209395185     \n",
       "1  1              None              1965        324673385     \n",
       "2  1              None              1982        324770585     \n",
       "3  3              None              1993        334434085     \n",
       "4  2              None              1947        543561533     "
      ]
     },
     "execution_count": 65,
     "metadata": {},
     "output_type": "execute_result"
    },
    {
     "name": "stdout",
     "output_type": "stream",
     "text": [
      "time: 2min 57s (started: 2023-04-05 01:40:16 +00:00)\n"
     ]
    }
   ],
   "source": [
    "immigration_cleaned.limit(5).toPandas()"
   ]
  },
  {
   "cell_type": "code",
   "execution_count": 66,
   "metadata": {},
   "outputs": [
    {
     "name": "stdout",
     "output_type": "stream",
     "text": [
      "time: 3.43 ms (started: 2023-04-05 01:43:13 +00:00)\n"
     ]
    }
   ],
   "source": [
    "# immigration_cleaned.createOrReplaceTempView('immigration_cleaned')\n",
    "# immigration_cleaned.createOrReplaceTempView('immigration_filtered')\n",
    "# visa_dim.createOrReplaceTempView('visa_dim')\n",
    "# i94_mode_dim.createOrReplaceTempView('i94_mode_dim')\n",
    "# date_dim.createOrReplaceTempView('date_dim')\n",
    "# i94_port_dim.createOrReplaceTempView('i94_port_dim')\n",
    "# country_dim.createOrReplaceTempView('country_dim')\n",
    "# status_dim.createOrReplaceTempView('status_dim')\n",
    "# demog_bystate_dim.createOrReplaceTempView('demog_bystate_dim')"
   ]
  },
  {
   "cell_type": "markdown",
   "metadata": {},
   "source": [
    "##### Creating Fact Table: immig_fact"
   ]
  },
  {
   "cell_type": "code",
   "execution_count": 67,
   "metadata": {},
   "outputs": [
    {
     "name": "stdout",
     "output_type": "stream",
     "text": [
      "time: 307 ms (started: 2023-04-05 01:43:13 +00:00)\n"
     ]
    }
   ],
   "source": [
    "#Creating fact table\n",
    "\n",
    "immigration_fact = immigration_cleaned\\\n",
    ".join(visa_dim,\n",
    "      (visa_dim.visa_cat_code == immigration_cleaned.visa_cat_code) &\n",
    "      (visa_dim.visa_type == immigration_cleaned.visa_type),\n",
    "      how= \"left\")\\\n",
    ".join(i94_mode_dim,\n",
    "      (i94_mode_dim.i94_mode == immigration_cleaned.i94_mode),\n",
    "      how= \"left\")\\\n",
    ".join(status_dim,\n",
    "      (status_dim.arrival_flag == immigration_cleaned.arrival_flag) &\n",
    "      (status_dim.departure_flag == immigration_cleaned.departure_flag) &\n",
    "      (status_dim.match_flag == immigration_cleaned.match_flag),\n",
    "      how= \"left\")\\\n",
    ".join(date_dim, (date_dim.dt_arrival == immigration_cleaned.dt_arrival), how= \"left\")\\\n",
    ".join(demog_bystate_dim, demog_bystate_dim.state_code == immigration_cleaned.arrival_state_code\n",
    "      ,how= \"left\")\\\n",
    ".join(i94_port_dim, (i94_port_dim.port_code == immigration_cleaned.i94port_code), how= \"left\")\\\n",
    ".join(country_dim, (country_dim.country_code == immigration_cleaned.country_of_residence), how= \"left\")\\\n",
    ".where(F.col('cicid').isNotNull())\\\n",
    ".select(\"cicid\"\n",
    "        ,immigration_cleaned[\"dt_arrival\"]\n",
    "        ,\"entry_year\"\n",
    "        ,\"entry_month\"\n",
    "        ,\"arrival_state_code\" \n",
    "        ,immigration_cleaned[\"visa_type\"]\n",
    "        ,immigration_cleaned[\"visa_cat_code\"]\n",
    "        ,\"visa_issued_state\"\n",
    "        ,immigration_cleaned[\"i94_mode\"]\n",
    "        ,immigration_cleaned[\"i94port_code\"]\n",
    "        ,\"country_of_residence\"\n",
    "        ,\"country_of_birth\"\n",
    "        ,\"age\"\n",
    "        ,\"birth_year\"\n",
    "        ,\"gender\"\n",
    "        ,\"admission_num\"\n",
    "        ,\"occup\"\n",
    "        ,immigration_cleaned[\"arrival_flag\"]\n",
    "        ,immigration_cleaned[\"departure_flag\"]\n",
    "        ,immigration_cleaned[\"match_flag\"]\n",
    "        ,immigration_cleaned[\"dt_departure\"]\n",
    "        ,immigration_cleaned[\"dt_add_tofile\"]\n",
    "        ,immigration_cleaned[\"dt_stay_until\"]\n",
    "        ,status_dim['status_flag_id'])       "
   ]
  },
  {
   "cell_type": "code",
   "execution_count": 68,
   "metadata": {},
   "outputs": [
    {
     "name": "stdout",
     "output_type": "stream",
     "text": [
      "root\n",
      " |-- cicid: integer (nullable = true)\n",
      " |-- dt_arrival: date (nullable = true)\n",
      " |-- entry_year: integer (nullable = true)\n",
      " |-- entry_month: integer (nullable = true)\n",
      " |-- arrival_state_code: string (nullable = true)\n",
      " |-- visa_type: string (nullable = true)\n",
      " |-- visa_cat_code: integer (nullable = true)\n",
      " |-- visa_issued_state: integer (nullable = true)\n",
      " |-- i94_mode: integer (nullable = true)\n",
      " |-- i94port_code: string (nullable = true)\n",
      " |-- country_of_residence: integer (nullable = true)\n",
      " |-- country_of_birth: integer (nullable = true)\n",
      " |-- age: integer (nullable = true)\n",
      " |-- birth_year: integer (nullable = true)\n",
      " |-- gender: string (nullable = true)\n",
      " |-- admission_num: decimal(15,0) (nullable = true)\n",
      " |-- occup: string (nullable = true)\n",
      " |-- arrival_flag: string (nullable = true)\n",
      " |-- departure_flag: string (nullable = true)\n",
      " |-- match_flag: string (nullable = true)\n",
      " |-- dt_departure: date (nullable = true)\n",
      " |-- dt_add_tofile: date (nullable = true)\n",
      " |-- dt_stay_until: date (nullable = true)\n",
      " |-- status_flag_id: long (nullable = true)\n",
      "\n",
      "time: 11.1 ms (started: 2023-04-05 01:43:13 +00:00)\n"
     ]
    }
   ],
   "source": [
    "immigration_fact.printSchema()"
   ]
  },
  {
   "cell_type": "code",
   "execution_count": 69,
   "metadata": {},
   "outputs": [
    {
     "data": {
      "text/plain": [
       "3075579"
      ]
     },
     "execution_count": 69,
     "metadata": {},
     "output_type": "execute_result"
    },
    {
     "name": "stdout",
     "output_type": "stream",
     "text": [
      "time: 1min 25s (started: 2023-04-05 01:43:13 +00:00)\n"
     ]
    }
   ],
   "source": [
    "immigration_fact.count()"
   ]
  },
  {
   "cell_type": "code",
   "execution_count": 70,
   "metadata": {},
   "outputs": [
    {
     "data": {
      "text/html": [
       "<div>\n",
       "<style scoped>\n",
       "    .dataframe tbody tr th:only-of-type {\n",
       "        vertical-align: middle;\n",
       "    }\n",
       "\n",
       "    .dataframe tbody tr th {\n",
       "        vertical-align: top;\n",
       "    }\n",
       "\n",
       "    .dataframe thead th {\n",
       "        text-align: right;\n",
       "    }\n",
       "</style>\n",
       "<table border=\"1\" class=\"dataframe\">\n",
       "  <thead>\n",
       "    <tr style=\"text-align: right;\">\n",
       "      <th></th>\n",
       "      <th>cicid</th>\n",
       "      <th>dt_arrival</th>\n",
       "      <th>entry_year</th>\n",
       "      <th>entry_month</th>\n",
       "      <th>arrival_state_code</th>\n",
       "      <th>visa_type</th>\n",
       "      <th>visa_cat_code</th>\n",
       "      <th>visa_issued_state</th>\n",
       "      <th>i94_mode</th>\n",
       "      <th>i94port_code</th>\n",
       "      <th>country_of_residence</th>\n",
       "      <th>country_of_birth</th>\n",
       "      <th>age</th>\n",
       "      <th>birth_year</th>\n",
       "      <th>gender</th>\n",
       "      <th>admission_num</th>\n",
       "      <th>occup</th>\n",
       "      <th>arrival_flag</th>\n",
       "      <th>departure_flag</th>\n",
       "      <th>match_flag</th>\n",
       "      <th>dt_departure</th>\n",
       "      <th>dt_add_tofile</th>\n",
       "      <th>dt_stay_until</th>\n",
       "      <th>status_flag_id</th>\n",
       "    </tr>\n",
       "  </thead>\n",
       "  <tbody>\n",
       "    <tr>\n",
       "      <th>0</th>\n",
       "      <td>74750</td>\n",
       "      <td>2016-04-01</td>\n",
       "      <td>2016</td>\n",
       "      <td>4</td>\n",
       "      <td>MI</td>\n",
       "      <td>F2</td>\n",
       "      <td>3</td>\n",
       "      <td>None</td>\n",
       "      <td>1</td>\n",
       "      <td>DET</td>\n",
       "      <td>276</td>\n",
       "      <td>254</td>\n",
       "      <td>35</td>\n",
       "      <td>1981</td>\n",
       "      <td>F</td>\n",
       "      <td>209395185</td>\n",
       "      <td>None</td>\n",
       "      <td>U</td>\n",
       "      <td>O</td>\n",
       "      <td>M</td>\n",
       "      <td>2016-05-09</td>\n",
       "      <td>2016-04-01</td>\n",
       "      <td>None</td>\n",
       "      <td>1.451699e+12</td>\n",
       "    </tr>\n",
       "    <tr>\n",
       "      <th>1</th>\n",
       "      <td>2322334</td>\n",
       "      <td>2016-04-13</td>\n",
       "      <td>2016</td>\n",
       "      <td>4</td>\n",
       "      <td>None</td>\n",
       "      <td>E2</td>\n",
       "      <td>1</td>\n",
       "      <td>None</td>\n",
       "      <td>3</td>\n",
       "      <td>OTM</td>\n",
       "      <td>129</td>\n",
       "      <td>129</td>\n",
       "      <td>51</td>\n",
       "      <td>1965</td>\n",
       "      <td>M</td>\n",
       "      <td>324673385</td>\n",
       "      <td>None</td>\n",
       "      <td>Z</td>\n",
       "      <td>O</td>\n",
       "      <td>M</td>\n",
       "      <td>2016-04-24</td>\n",
       "      <td>2016-04-13</td>\n",
       "      <td>2018-01-08</td>\n",
       "      <td>7.301444e+11</td>\n",
       "    </tr>\n",
       "    <tr>\n",
       "      <th>2</th>\n",
       "      <td>935651</td>\n",
       "      <td>2016-04-05</td>\n",
       "      <td>2016</td>\n",
       "      <td>4</td>\n",
       "      <td>AL</td>\n",
       "      <td>B1</td>\n",
       "      <td>1</td>\n",
       "      <td>None</td>\n",
       "      <td>1</td>\n",
       "      <td>LAR</td>\n",
       "      <td>582</td>\n",
       "      <td>582</td>\n",
       "      <td>34</td>\n",
       "      <td>1982</td>\n",
       "      <td>M</td>\n",
       "      <td>324770585</td>\n",
       "      <td>None</td>\n",
       "      <td>H</td>\n",
       "      <td>R</td>\n",
       "      <td>M</td>\n",
       "      <td>2016-04-06</td>\n",
       "      <td>2016-04-05</td>\n",
       "      <td>2016-07-08</td>\n",
       "      <td>1.056562e+12</td>\n",
       "    </tr>\n",
       "    <tr>\n",
       "      <th>3</th>\n",
       "      <td>5442902</td>\n",
       "      <td>2016-04-29</td>\n",
       "      <td>2016</td>\n",
       "      <td>4</td>\n",
       "      <td>MA</td>\n",
       "      <td>F1</td>\n",
       "      <td>3</td>\n",
       "      <td>None</td>\n",
       "      <td>1</td>\n",
       "      <td>NAS</td>\n",
       "      <td>129</td>\n",
       "      <td>129</td>\n",
       "      <td>23</td>\n",
       "      <td>1993</td>\n",
       "      <td>F</td>\n",
       "      <td>334434085</td>\n",
       "      <td>None</td>\n",
       "      <td>H</td>\n",
       "      <td>N</td>\n",
       "      <td>M</td>\n",
       "      <td>2016-05-22</td>\n",
       "      <td>2016-04-29</td>\n",
       "      <td>None</td>\n",
       "      <td>5.325759e+11</td>\n",
       "    </tr>\n",
       "    <tr>\n",
       "      <th>4</th>\n",
       "      <td>5945017</td>\n",
       "      <td>2016-04-10</td>\n",
       "      <td>2016</td>\n",
       "      <td>4</td>\n",
       "      <td>GU</td>\n",
       "      <td>GMT</td>\n",
       "      <td>2</td>\n",
       "      <td>None</td>\n",
       "      <td>1</td>\n",
       "      <td>AGA</td>\n",
       "      <td>209</td>\n",
       "      <td>252</td>\n",
       "      <td>69</td>\n",
       "      <td>1947</td>\n",
       "      <td>M</td>\n",
       "      <td>543561533</td>\n",
       "      <td>None</td>\n",
       "      <td>A</td>\n",
       "      <td>None</td>\n",
       "      <td>None</td>\n",
       "      <td>None</td>\n",
       "      <td>2016-06-08</td>\n",
       "      <td>2016-05-24</td>\n",
       "      <td>NaN</td>\n",
       "    </tr>\n",
       "  </tbody>\n",
       "</table>\n",
       "</div>"
      ],
      "text/plain": [
       "     cicid  dt_arrival  entry_year  entry_month arrival_state_code visa_type  \\\n",
       "0  74750    2016-04-01  2016        4            MI                 F2         \n",
       "1  2322334  2016-04-13  2016        4            None               E2         \n",
       "2  935651   2016-04-05  2016        4            AL                 B1         \n",
       "3  5442902  2016-04-29  2016        4            MA                 F1         \n",
       "4  5945017  2016-04-10  2016        4            GU                 GMT        \n",
       "\n",
       "   visa_cat_code visa_issued_state  i94_mode i94port_code  \\\n",
       "0  3              None              1         DET           \n",
       "1  1              None              3         OTM           \n",
       "2  1              None              1         LAR           \n",
       "3  3              None              1         NAS           \n",
       "4  2              None              1         AGA           \n",
       "\n",
       "   country_of_residence  country_of_birth  age  birth_year gender  \\\n",
       "0  276                   254               35   1981        F       \n",
       "1  129                   129               51   1965        M       \n",
       "2  582                   582               34   1982        M       \n",
       "3  129                   129               23   1993        F       \n",
       "4  209                   252               69   1947        M       \n",
       "\n",
       "  admission_num occup arrival_flag departure_flag match_flag dt_departure  \\\n",
       "0  209395185     None  U            O              M          2016-05-09    \n",
       "1  324673385     None  Z            O              M          2016-04-24    \n",
       "2  324770585     None  H            R              M          2016-04-06    \n",
       "3  334434085     None  H            N              M          2016-05-22    \n",
       "4  543561533     None  A            None           None       None          \n",
       "\n",
       "  dt_add_tofile dt_stay_until  status_flag_id  \n",
       "0  2016-04-01    None          1.451699e+12    \n",
       "1  2016-04-13    2018-01-08    7.301444e+11    \n",
       "2  2016-04-05    2016-07-08    1.056562e+12    \n",
       "3  2016-04-29    None          5.325759e+11    \n",
       "4  2016-06-08    2016-05-24   NaN              "
      ]
     },
     "execution_count": 70,
     "metadata": {},
     "output_type": "execute_result"
    },
    {
     "name": "stdout",
     "output_type": "stream",
     "text": [
      "time: 2min 50s (started: 2023-04-05 01:44:39 +00:00)\n"
     ]
    }
   ],
   "source": [
    "immigration_fact.limit(5).toPandas()"
   ]
  },
  {
   "cell_type": "markdown",
   "metadata": {},
   "source": [
    "#### 4.2 Data Quality Checks\n",
    "Explain the data quality checks you'll perform to ensure the pipeline ran as expected. These could include:\n",
    " * Integrity constraints on the relational database (e.g., unique key, data type, etc.)\n",
    " * Unit tests for the scripts to ensure they are doing the right thing\n",
    " * Source/Count checks to ensure completeness\n",
    " \n",
    "Run Quality Checks"
   ]
  },
  {
   "cell_type": "code",
   "execution_count": 72,
   "metadata": {},
   "outputs": [
    {
     "name": "stdout",
     "output_type": "stream",
     "text": [
      "Table immigration_fact has 3075579 records\n",
      "Table visa_dim has 17 records\n",
      "Table i94_mode_dim has 5 records\n",
      "Table status_dim has 99 records\n",
      "Table status_lookup_dim has 8 records\n",
      "Table date_dim has 30 records\n",
      "Table demog_bystate_dim has 49 records\n",
      "Table i94_port_dim has 660 records\n",
      "Table country_dim has 289 records\n",
      "time: 1min 19s (started: 2023-04-05 01:49:02 +00:00)\n"
     ]
    }
   ],
   "source": [
    "# Data quality checks on dimension and fact tables\n",
    "tables = {\"immigration_fact\": immigration_fact,\n",
    "          \"visa_dim\" : visa_dim,\n",
    "          \"i94_mode_dim\": i94_mode_dim, \n",
    "          \"status_dim\": status_dim,\n",
    "          \"status_lookup_dim\": status_lookup_dim,\n",
    "          \"date_dim\": date_dim,\n",
    "          \"demog_bystate_dim\": demog_bystate_dim,\n",
    "          \"i94_port_dim\": i94_port_dim,\n",
    "          \"country_dim\": country_dim }\n",
    "\n",
    "for tab_name, df in tables.items():\n",
    "    util.check_row_counts(df,tab_name)"
   ]
  },
  {
   "cell_type": "code",
   "execution_count": 71,
   "metadata": {},
   "outputs": [
    {
     "name": "stdout",
     "output_type": "stream",
     "text": [
      "+--------------+---------+\n",
      "|cicid_dist_cnt|cicid_cnt|\n",
      "+--------------+---------+\n",
      "|       3075579|  3075579|\n",
      "+--------------+---------+\n",
      "\n",
      "time: 1min 31s (started: 2023-04-05 01:47:30 +00:00)\n"
     ]
    }
   ],
   "source": [
    "# Check to verify counts across the primary key column\n",
    "# Should be equal and no duplicates\n",
    "immigration_fact.select(F.countDistinct('cicid').alias('cicid_dist_cnt')\n",
    "                  ,F.count('cicid').alias('cicid_cnt')).show()"
   ]
  },
  {
   "cell_type": "code",
   "execution_count": 75,
   "metadata": {},
   "outputs": [
    {
     "name": "stdout",
     "output_type": "stream",
     "text": [
      "+------------------+-------------+\n",
      "|dist_cnt_visa_type|cnt_visa_type|\n",
      "+------------------+-------------+\n",
      "|                17|           17|\n",
      "+------------------+-------------+\n",
      "\n",
      "time: 1.47 s (started: 2023-04-05 02:05:59 +00:00)\n"
     ]
    }
   ],
   "source": [
    "visa_dim.select(F.countDistinct('visa_type').alias('dist_cnt_visa_type')\n",
    "                  ,F.count('visa_type').alias('cnt_visa_type')).show()"
   ]
  },
  {
   "cell_type": "markdown",
   "metadata": {},
   "source": [
    "#### 4.3 Data dictionary \n",
    "Create a data dictionary for your data model. For each field, provide a brief description of what the data is and where it came from. You can include the data dictionary in the notebook or in a separate file."
   ]
  },
  {
   "cell_type": "markdown",
   "metadata": {},
   "source": [
    "- Data dictionary is included in the workspace"
   ]
  },
  {
   "cell_type": "markdown",
   "metadata": {},
   "source": [
    "#### Step 5: Complete Project Write Up\n",
    "* Clearly state the rationale for the choice of tools and technologies for the project.\n",
    "* Propose how often the data should be updated and why.\n",
    "* Write a description of how you would approach the problem differently under the following scenarios:\n",
    " * The data was increased by 100x.\n",
    " * The data populates a dashboard that must be updated on a daily basis by 7am every day.\n",
    " * The database needed to be accessed by 100+ people."
   ]
  },
  {
   "cell_type": "markdown",
   "metadata": {},
   "source": [
    "##### Solutions:\n",
    "* Clearly state the rationale for the choice of tools and technologies for the project.\n",
    "  * Choice of tools for this project:\n",
    "    * Apache spark was the preferred engine because of its ability to process massive amounts of data, ease of use and versatility in handling different data formats\n",
    "    \n",
    "    \n",
    "* Propose how often the data should be updated and why.\n",
    "  * Frequency of data updates:\n",
    "    * Since the source data is updated monthly, it makes sense to have the relevant data to follow the same frequency as well\n",
    "    \n",
    "\n",
    "* The data was increased by 100x.\n",
    "    * If the data was increased by 100x a more appropriate approach is to utilize Amazon EMR to do the data processing and load the tables in Redshift \n",
    "    \n",
    "    \n",
    "\n",
    "* The data populates a dashboard that must be updated on a daily basis by 7am every day.\n",
    "     * If the data is used to populate a dashboard that updates at a set time every day, it is recommended to use Apache Airflow to manage the ETL pipeline through a Directed Acyclic Graph (DAG). By doing so, the data can be processed and updated in a timely and automated manner, with necessary checks in place to ensure data quality and completeness. In case of any failures, Airflow can send notifications to the appropriate stakeholders, enabling them to take corrective action quickly. This helps ensure that the dashboard displays up-to-date information that is accurate and reliable.\n",
    "     \n",
    " \n",
    "* The database needed to be accessed by 100+ people\n",
    "  * If the system needs to handle multiple requests at the same time, loading the data into Amazon Redshift can help increase the efficiency of the process. Redshift is a powerful and scalable data warehousing solution that can handle large amounts of data and provide fast query performance. By storing the data in Redshift, it can be easily accessed and queried by multiple users or applications simultaneously, without impacting the performance of the system. Additionally, Redshift provides built-in security features to help protect sensitive data and maintain data integrity."
   ]
  },
  {
   "cell_type": "markdown",
   "metadata": {},
   "source": [
    "credits: ER diagram: https://dbdiagram.io/d"
   ]
  }
 ],
 "metadata": {
  "kernelspec": {
   "display_name": "Python 3 (ipykernel)",
   "language": "python",
   "name": "python3"
  },
  "language_info": {
   "codemirror_mode": {
    "name": "ipython",
    "version": 3
   },
   "file_extension": ".py",
   "mimetype": "text/x-python",
   "name": "python",
   "nbconvert_exporter": "python",
   "pygments_lexer": "ipython3",
   "version": "3.11.5"
  }
 },
 "nbformat": 4,
 "nbformat_minor": 4
}
